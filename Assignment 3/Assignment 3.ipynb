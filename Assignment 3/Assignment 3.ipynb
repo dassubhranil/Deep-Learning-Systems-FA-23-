{
 "cells": [
  {
   "cell_type": "markdown",
   "id": "2cca6152",
   "metadata": {},
   "source": [
    "# Question 1"
   ]
  },
  {
   "cell_type": "code",
   "execution_count": 128,
   "id": "af0fce0f",
   "metadata": {},
   "outputs": [],
   "source": [
    "import tensorflow as tf\n",
    "from tensorflow.keras import layers, models\n",
    "import matplotlib.pyplot as plt\n",
    "import numpy as np\n",
    "import keras\n",
    "from keras.initializers import RandomNormal\n",
    "from tensorflow.keras import initializers\n"
   ]
  },
  {
   "cell_type": "code",
   "execution_count": 129,
   "id": "46836cd6",
   "metadata": {},
   "outputs": [],
   "source": [
    "mnist = tf.keras.datasets.mnist"
   ]
  },
  {
   "cell_type": "code",
   "execution_count": 130,
   "id": "f8e4fa3d",
   "metadata": {},
   "outputs": [],
   "source": [
    "(x_train, y_train), (x_test, y_test) = mnist.load_data()\n",
    "\n",
    "x_train = x_train.reshape((60000, 28, 28, 1))\n",
    "x_test = x_test.reshape((10000, 28, 28, 1))\n",
    "\n",
    "x_train, x_test = x_train / 255.0, x_test / 255.0"
   ]
  },
  {
   "cell_type": "code",
   "execution_count": 131,
   "id": "eee0151b",
   "metadata": {},
   "outputs": [],
   "source": [
    "y_train = tf.keras.utils.to_categorical(y_train, 10)\n",
    "y_test = tf.keras.utils.to_categorical(y_test, 10)"
   ]
  },
  {
   "cell_type": "code",
   "execution_count": 132,
   "id": "86cce1de",
   "metadata": {},
   "outputs": [],
   "source": [
    "Baseline = tf.keras.Sequential([\n",
    "    tf.keras.layers.Flatten(input_shape=(28,28)),\n",
    "    tf.keras.layers.Dense(1024, activation=\"relu\", kernel_initializer=tf.keras.initializers.HeNormal()),\n",
    "    tf.keras.layers.Dense(1024, activation=\"relu\", kernel_initializer=tf.keras.initializers.HeNormal()),\n",
    "    tf.keras.layers.Dense(1024, activation=\"relu\", kernel_initializer=tf.keras.initializers.HeNormal()),\n",
    "    tf.keras.layers.Dense(1024, activation=\"relu\", kernel_initializer=tf.keras.initializers.HeNormal()),\n",
    "    tf.keras.layers.Dense(1024, activation=\"relu\", kernel_initializer=tf.keras.initializers.HeNormal()),\n",
    "    tf.keras.layers.Dense(10, activation=\"softmax\")\n",
    "\n",
    "])\n",
    "loss = tf.keras.losses.CategoricalCrossentropy()\n",
    "opt = tf.keras.optimizers.Adam(learning_rate=0.001)\n",
    "metrics = [\"accuracy\"]\n",
    "Baseline.compile(loss=loss , optimizer=opt, metrics=metrics)"
   ]
  },
  {
   "cell_type": "code",
   "execution_count": 133,
   "id": "74765f10",
   "metadata": {
    "scrolled": true
   },
   "outputs": [
    {
     "name": "stdout",
     "output_type": "stream",
     "text": [
      "Epoch 1/50\n",
      "120/120 [==============================] - 8s 55ms/step - loss: 0.3208 - accuracy: 0.9038 - val_loss: 0.1003 - val_accuracy: 0.9686\n",
      "Epoch 2/50\n",
      "120/120 [==============================] - 7s 55ms/step - loss: 0.0765 - accuracy: 0.9762 - val_loss: 0.0793 - val_accuracy: 0.9748\n",
      "Epoch 3/50\n",
      "120/120 [==============================] - 7s 55ms/step - loss: 0.0469 - accuracy: 0.9850 - val_loss: 0.0739 - val_accuracy: 0.9785\n",
      "Epoch 4/50\n",
      "120/120 [==============================] - 7s 57ms/step - loss: 0.0329 - accuracy: 0.9893 - val_loss: 0.0741 - val_accuracy: 0.9780\n",
      "Epoch 5/50\n",
      "120/120 [==============================] - 6s 54ms/step - loss: 0.0274 - accuracy: 0.9913 - val_loss: 0.0818 - val_accuracy: 0.9781\n",
      "Epoch 6/50\n",
      "120/120 [==============================] - 7s 55ms/step - loss: 0.0250 - accuracy: 0.9922 - val_loss: 0.0846 - val_accuracy: 0.9789\n",
      "Epoch 7/50\n",
      "120/120 [==============================] - 7s 58ms/step - loss: 0.0232 - accuracy: 0.9923 - val_loss: 0.1010 - val_accuracy: 0.9758\n",
      "Epoch 8/50\n",
      "120/120 [==============================] - 7s 55ms/step - loss: 0.0198 - accuracy: 0.9937 - val_loss: 0.0857 - val_accuracy: 0.9780\n",
      "Epoch 9/50\n",
      "120/120 [==============================] - 7s 54ms/step - loss: 0.0140 - accuracy: 0.9952 - val_loss: 0.0826 - val_accuracy: 0.9806\n",
      "Epoch 10/50\n",
      "120/120 [==============================] - 7s 55ms/step - loss: 0.0156 - accuracy: 0.9949 - val_loss: 0.0883 - val_accuracy: 0.9796\n",
      "Epoch 11/50\n",
      "120/120 [==============================] - 6s 53ms/step - loss: 0.0159 - accuracy: 0.9952 - val_loss: 0.1031 - val_accuracy: 0.9764\n",
      "Epoch 12/50\n",
      "120/120 [==============================] - 6s 53ms/step - loss: 0.0154 - accuracy: 0.9956 - val_loss: 0.0857 - val_accuracy: 0.9822\n",
      "Epoch 13/50\n",
      "120/120 [==============================] - 6s 53ms/step - loss: 0.0090 - accuracy: 0.9971 - val_loss: 0.0933 - val_accuracy: 0.9810\n",
      "Epoch 14/50\n",
      "120/120 [==============================] - 6s 54ms/step - loss: 0.0110 - accuracy: 0.9967 - val_loss: 0.0857 - val_accuracy: 0.9825\n",
      "Epoch 15/50\n",
      "120/120 [==============================] - 6s 53ms/step - loss: 0.0136 - accuracy: 0.9960 - val_loss: 0.0936 - val_accuracy: 0.9793\n",
      "Epoch 16/50\n",
      "120/120 [==============================] - 6s 53ms/step - loss: 0.0098 - accuracy: 0.9969 - val_loss: 0.0830 - val_accuracy: 0.9810\n",
      "Epoch 17/50\n",
      "120/120 [==============================] - 6s 53ms/step - loss: 0.0110 - accuracy: 0.9967 - val_loss: 0.0806 - val_accuracy: 0.9815\n",
      "Epoch 18/50\n",
      "120/120 [==============================] - 6s 53ms/step - loss: 0.0094 - accuracy: 0.9971 - val_loss: 0.0978 - val_accuracy: 0.9813\n",
      "Epoch 19/50\n",
      "120/120 [==============================] - 6s 53ms/step - loss: 0.0094 - accuracy: 0.9973 - val_loss: 0.1014 - val_accuracy: 0.9793\n",
      "Epoch 20/50\n",
      "120/120 [==============================] - 6s 53ms/step - loss: 0.0091 - accuracy: 0.9974 - val_loss: 0.0906 - val_accuracy: 0.9829\n",
      "Epoch 21/50\n",
      "120/120 [==============================] - 7s 55ms/step - loss: 0.0040 - accuracy: 0.9988 - val_loss: 0.0924 - val_accuracy: 0.9825\n",
      "Epoch 22/50\n",
      "120/120 [==============================] - 6s 53ms/step - loss: 0.0091 - accuracy: 0.9974 - val_loss: 0.1002 - val_accuracy: 0.9804\n",
      "Epoch 23/50\n",
      "120/120 [==============================] - 6s 52ms/step - loss: 0.0114 - accuracy: 0.9968 - val_loss: 0.0916 - val_accuracy: 0.9807\n",
      "Epoch 24/50\n",
      "120/120 [==============================] - 6s 52ms/step - loss: 0.0099 - accuracy: 0.9971 - val_loss: 0.1108 - val_accuracy: 0.9806\n",
      "Epoch 25/50\n",
      "120/120 [==============================] - 6s 54ms/step - loss: 0.0089 - accuracy: 0.9977 - val_loss: 0.0996 - val_accuracy: 0.9833\n",
      "Epoch 26/50\n",
      "120/120 [==============================] - 6s 53ms/step - loss: 0.0087 - accuracy: 0.9976 - val_loss: 0.0962 - val_accuracy: 0.9810\n",
      "Epoch 27/50\n",
      "120/120 [==============================] - 6s 53ms/step - loss: 0.0048 - accuracy: 0.9988 - val_loss: 0.0990 - val_accuracy: 0.9822\n",
      "Epoch 28/50\n",
      "120/120 [==============================] - 6s 53ms/step - loss: 0.0071 - accuracy: 0.9982 - val_loss: 0.0814 - val_accuracy: 0.9835\n",
      "Epoch 29/50\n",
      "120/120 [==============================] - 6s 53ms/step - loss: 0.0054 - accuracy: 0.9985 - val_loss: 0.0966 - val_accuracy: 0.9821\n",
      "Epoch 30/50\n",
      "120/120 [==============================] - 7s 54ms/step - loss: 0.0093 - accuracy: 0.9975 - val_loss: 0.0909 - val_accuracy: 0.9827\n",
      "Epoch 31/50\n",
      "120/120 [==============================] - 6s 53ms/step - loss: 0.0077 - accuracy: 0.9980 - val_loss: 0.0988 - val_accuracy: 0.9814\n",
      "Epoch 32/50\n",
      "120/120 [==============================] - 6s 53ms/step - loss: 0.0059 - accuracy: 0.9981 - val_loss: 0.1086 - val_accuracy: 0.9820\n",
      "Epoch 33/50\n",
      "120/120 [==============================] - 6s 53ms/step - loss: 0.0104 - accuracy: 0.9973 - val_loss: 0.0914 - val_accuracy: 0.9832\n",
      "Epoch 34/50\n",
      "120/120 [==============================] - 6s 53ms/step - loss: 0.0057 - accuracy: 0.9984 - val_loss: 0.0871 - val_accuracy: 0.9824\n",
      "Epoch 35/50\n",
      "120/120 [==============================] - 6s 53ms/step - loss: 0.0100 - accuracy: 0.9973 - val_loss: 0.0904 - val_accuracy: 0.9820\n",
      "Epoch 36/50\n",
      "120/120 [==============================] - 6s 54ms/step - loss: 0.0058 - accuracy: 0.9986 - val_loss: 0.1024 - val_accuracy: 0.9833\n",
      "Epoch 37/50\n",
      "120/120 [==============================] - 6s 53ms/step - loss: 0.0038 - accuracy: 0.9990 - val_loss: 0.0999 - val_accuracy: 0.9838\n",
      "Epoch 38/50\n",
      "120/120 [==============================] - 6s 53ms/step - loss: 0.0080 - accuracy: 0.9977 - val_loss: 0.1055 - val_accuracy: 0.9788\n",
      "Epoch 39/50\n",
      "120/120 [==============================] - 6s 53ms/step - loss: 0.0080 - accuracy: 0.9976 - val_loss: 0.0952 - val_accuracy: 0.9803\n",
      "Epoch 40/50\n",
      "120/120 [==============================] - 6s 53ms/step - loss: 0.0072 - accuracy: 0.9981 - val_loss: 0.1117 - val_accuracy: 0.9806\n",
      "Epoch 41/50\n",
      "120/120 [==============================] - 6s 53ms/step - loss: 0.0036 - accuracy: 0.9992 - val_loss: 0.1119 - val_accuracy: 0.9837\n",
      "Epoch 42/50\n",
      "120/120 [==============================] - 6s 53ms/step - loss: 0.0043 - accuracy: 0.9989 - val_loss: 0.1092 - val_accuracy: 0.9846\n",
      "Epoch 43/50\n",
      "120/120 [==============================] - 6s 53ms/step - loss: 0.0069 - accuracy: 0.9982 - val_loss: 0.1147 - val_accuracy: 0.9820\n",
      "Epoch 44/50\n",
      "120/120 [==============================] - 7s 54ms/step - loss: 0.0054 - accuracy: 0.9989 - val_loss: 0.1145 - val_accuracy: 0.9832\n",
      "Epoch 45/50\n",
      "120/120 [==============================] - 6s 53ms/step - loss: 0.0068 - accuracy: 0.9984 - val_loss: 0.0857 - val_accuracy: 0.9850\n",
      "Epoch 46/50\n",
      "120/120 [==============================] - 6s 53ms/step - loss: 0.0052 - accuracy: 0.9989 - val_loss: 0.1135 - val_accuracy: 0.9820\n",
      "Epoch 47/50\n",
      "120/120 [==============================] - 6s 53ms/step - loss: 0.0074 - accuracy: 0.9981 - val_loss: 0.0997 - val_accuracy: 0.9838\n",
      "Epoch 48/50\n",
      "120/120 [==============================] - 6s 53ms/step - loss: 0.0084 - accuracy: 0.9977 - val_loss: 0.1006 - val_accuracy: 0.9831\n",
      "Epoch 49/50\n",
      "120/120 [==============================] - 6s 54ms/step - loss: 0.0053 - accuracy: 0.9988 - val_loss: 0.1220 - val_accuracy: 0.9819\n",
      "Epoch 50/50\n",
      "120/120 [==============================] - 6s 53ms/step - loss: 0.0073 - accuracy: 0.9980 - val_loss: 0.1092 - val_accuracy: 0.9831\n"
     ]
    }
   ],
   "source": [
    "Baseline_model=Baseline.fit(x_train, y_train, batch_size=500, epochs=50,validation_data=(x_test,y_test))"
   ]
  },
  {
   "cell_type": "code",
   "execution_count": 134,
   "id": "840c17ef",
   "metadata": {
    "scrolled": true
   },
   "outputs": [],
   "source": [
    "weight_matrix = [Baseline.layers[i].get_weights()[0] for i in range(1,len(Baseline.layers)-1)]\n",
    "bias_matrix = [Baseline.layers[i].get_weights()[1] for i in range(1,len(Baseline.layers)-1)]"
   ]
  },
  {
   "cell_type": "code",
   "execution_count": 135,
   "id": "da2b46d0",
   "metadata": {},
   "outputs": [],
   "source": [
    "w_matrix = [Baseline.layers[i].get_weights()[0] for i in range(1,len(Baseline.layers))]\n",
    "b_matrix = [Baseline.layers[i].get_weights()[1] for i in range(1,len(Baseline.layers))]"
   ]
  },
  {
   "cell_type": "code",
   "execution_count": 136,
   "id": "af45c4e3",
   "metadata": {},
   "outputs": [],
   "source": [
    "def apply_svd(layer,k,j):\n",
    "    if isinstance(layer, tf.keras.layers.Dense):\n",
    "        weights, biases = weight_matrix[j],bias_matrix[j]\n",
    "        s, u, v = tf.linalg.svd(weights)\n",
    "        u = u[:, :k]\n",
    "        s = s[:k]\n",
    "        v = v[:, :k]\n",
    "        new_weights = tf.matmul(u, tf.matmul(tf.linalg.diag(s), tf.transpose(v)))\n",
    "        layer.set_weights([new_weights, biases])"
   ]
  },
  {
   "cell_type": "code",
   "execution_count": 137,
   "id": "21eea61a",
   "metadata": {
    "scrolled": false
   },
   "outputs": [
    {
     "name": "stdout",
     "output_type": "stream",
     "text": [
      "Number of parameters in SVDed model (D=10): 48850\n",
      "Parameter reduction ratio compared to baseline (D=10): 102.61\n",
      "313/313 [==============================] - 2s 6ms/step - loss: 1.5608 - accuracy: 0.7062\n",
      "Number of parameters in SVDed model (D=20): 97700\n",
      "Parameter reduction ratio compared to baseline (D=20): 51.30\n",
      "313/313 [==============================] - 2s 6ms/step - loss: 0.3329 - accuracy: 0.9202\n",
      "Number of parameters in SVDed model (D=50): 244250\n",
      "Parameter reduction ratio compared to baseline (D=50): 20.52\n",
      "313/313 [==============================] - 2s 6ms/step - loss: 0.1122 - accuracy: 0.9796\n",
      "Number of parameters in SVDed model (D=100): 488500\n",
      "Parameter reduction ratio compared to baseline (D=100): 10.26\n",
      "313/313 [==============================] - 2s 6ms/step - loss: 0.0981 - accuracy: 0.9829\n",
      "Number of parameters in SVDed model (D=200): 977000\n",
      "Parameter reduction ratio compared to baseline (D=200): 5.13\n",
      "313/313 [==============================] - 2s 6ms/step - loss: 0.1000 - accuracy: 0.9830\n",
      "Number of parameters in SVDed model (D=1024): 5002240\n",
      "Parameter reduction ratio compared to baseline (D=1024): 1.00\n",
      "313/313 [==============================] - 2s 6ms/step - loss: 0.1092 - accuracy: 0.9831\n"
     ]
    }
   ],
   "source": [
    "accuracy =[]\n",
    "baseline_params = sum([tf.reduce_prod(var.shape) for var in Baseline.trainable_variables])\n",
    "D_values = [10, 20, 50, 100, 200, 1024]\n",
    "param = []\n",
    "param_ratio = []\n",
    "for j in range(6):\n",
    "    svded_params = 0\n",
    "    for i in range(1,len(Baseline.layers) - 1):\n",
    "        apply_svd(Baseline.layers[i],D_values[j],i-1)\n",
    "        layer = Baseline.layers[i]\n",
    "        weights, _ = layer.get_weights()\n",
    "        svded_params += weights.shape[0] * D_values[j] + D_values[j] \n",
    "    param.append(svded_params)\n",
    "    param_ratio.append(baseline_params / svded_params)\n",
    "    print(f\"Number of parameters in SVDed model (D={D_values[j]}):\", svded_params)\n",
    "    print(f\"Parameter reduction ratio compared to baseline (D={D_values[j]}): {baseline_params / svded_params:.2f}\")\n",
    "\n",
    "    accuracy.append(Baseline.evaluate(x_test,y_test))"
   ]
  },
  {
   "cell_type": "code",
   "execution_count": 138,
   "id": "33471491",
   "metadata": {},
   "outputs": [],
   "source": [
    "l=[]\n",
    "for i in range(6):\n",
    "    l.append(accuracy[i][1])"
   ]
  },
  {
   "cell_type": "code",
   "execution_count": 139,
   "id": "3f70dbb5",
   "metadata": {},
   "outputs": [
    {
     "data": {
      "image/png": "[encoded data removed]",
      "text/plain": [
       "<Figure size 1600x1200 with 1 Axes>"
      ]
     },
     "metadata": {},
     "output_type": "display_data"
    }
   ],
   "source": [
    "plt.figure(figsize=(16,12))\n",
    "custom_ticks = [10, 20, 50, 100, 200, 1024]\n",
    "plt.plot(custom_ticks,l)\n",
    "plt.xlabel(\"Rank\")\n",
    "plt.ylabel(\"Accuracy\")\n",
    "plt.show()\n"
   ]
  },
  {
   "cell_type": "markdown",
   "id": "1d069276",
   "metadata": {},
   "source": [
    "# Question 2"
   ]
  },
  {
   "cell_type": "code",
   "execution_count": 75,
   "id": "9d478f09",
   "metadata": {},
   "outputs": [],
   "source": [
    "SVDNetwork = tf.keras.Sequential([\n",
    "    tf.keras.layers.Flatten(input_shape=(28, 28))\n",
    "])"
   ]
  },
  {
   "cell_type": "code",
   "execution_count": 76,
   "id": "94d17ea8",
   "metadata": {},
   "outputs": [],
   "source": [
    "def custom_initializer(u, s, v):\n",
    "    def initialize_weights(shape, dtype=None):\n",
    "        return tf.matmul(u, tf.matmul(tf.linalg.diag(s), tf.transpose(v)))\n",
    "    return initialize_weights"
   ]
  },
  {
   "cell_type": "code",
   "execution_count": 77,
   "id": "2a0478b6",
   "metadata": {},
   "outputs": [],
   "source": [
    "def apply_svd(layer, k, j):\n",
    "    weights, biases = weight_matrix[j], bias_matrix[j]\n",
    "    u, s, v = np.linalg.svd(weights)\n",
    "    u = u[:, :k]\n",
    "    s = s[:k]\n",
    "    v = v[:, :k]\n",
    "    v = np.matmul(np.diag(s[:20]), v[:, :20].T) # Transpose V_D\n",
    "    custom_weights_initializer = custom_initializer(u, s, v)\n",
    "    SVDNetwork.add(tf.keras.layers.Dense(20,use_bias = False, weights = [u]))\n",
    "    SVDNetwork.add(tf.keras.layers.Dense(1024, activation='relu', weights = [v,biases]))\n"
   ]
  },
  {
   "cell_type": "code",
   "execution_count": 78,
   "id": "db171dd8",
   "metadata": {},
   "outputs": [],
   "source": [
    "for i in range(1, len(Baseline.layers) - 1):\n",
    "    apply_svd(Baseline.layers[i],20, i-1)\n",
    "    layer = SVDNetwork.layers[i]"
   ]
  },
  {
   "cell_type": "code",
   "execution_count": 79,
   "id": "4368a444",
   "metadata": {},
   "outputs": [],
   "source": [
    "SVDNetwork.add(tf.keras.layers.Dense(10, activation=\"softmax\"))\n"
   ]
  },
  {
   "cell_type": "code",
   "execution_count": 80,
   "id": "32840fba",
   "metadata": {
    "collapsed": true
   },
   "outputs": [
    {
     "name": "stdout",
     "output_type": "stream",
     "text": [
      "Model: \"sequential_12\"\n",
      "_________________________________________________________________\n",
      " Layer (type)                Output Shape              Param #   \n",
      "=================================================================\n",
      " flatten_12 (Flatten)        (None, 784)               0         \n",
      "                                                                 \n",
      " dense_53 (Dense)            (None, 20)                15680     \n",
      "                                                                 \n",
      " dense_54 (Dense)            (None, 1024)              21504     \n",
      "                                                                 \n",
      " dense_55 (Dense)            (None, 20)                20480     \n",
      "                                                                 \n",
      " dense_56 (Dense)            (None, 1024)              21504     \n",
      "                                                                 \n",
      " dense_57 (Dense)            (None, 20)                20480     \n",
      "                                                                 \n",
      " dense_58 (Dense)            (None, 1024)              21504     \n",
      "                                                                 \n",
      " dense_59 (Dense)            (None, 20)                20480     \n",
      "                                                                 \n",
      " dense_60 (Dense)            (None, 1024)              21504     \n",
      "                                                                 \n",
      " dense_61 (Dense)            (None, 20)                20480     \n",
      "                                                                 \n",
      " dense_62 (Dense)            (None, 1024)              21504     \n",
      "                                                                 \n",
      " dense_63 (Dense)            (None, 10)                10250     \n",
      "                                                                 \n",
      "=================================================================\n",
      "Total params: 215,370\n",
      "Trainable params: 215,370\n",
      "Non-trainable params: 0\n",
      "_________________________________________________________________\n"
     ]
    }
   ],
   "source": [
    "SVDNetwork.summary()"
   ]
  },
  {
   "cell_type": "code",
   "execution_count": 81,
   "id": "80494fa0",
   "metadata": {},
   "outputs": [],
   "source": [
    "loss = tf.keras.losses.CategoricalCrossentropy()\n",
    "opt = tf.keras.optimizers.Adam(learning_rate=0.0001)\n",
    "metrics = [\"accuracy\"]\n",
    "SVDNetwork.compile(loss=loss, optimizer=opt, metrics=metrics)"
   ]
  },
  {
   "cell_type": "code",
   "execution_count": 82,
   "id": "88e824b9",
   "metadata": {},
   "outputs": [
    {
     "name": "stdout",
     "output_type": "stream",
     "text": [
      "Epoch 1/50\n",
      "120/120 [==============================] - 5s 26ms/step - loss: 257.3396 - accuracy: 0.1023 - val_loss: 2.4309 - val_accuracy: 0.0952\n",
      "Epoch 2/50\n",
      "120/120 [==============================] - 3s 21ms/step - loss: 2.3094 - accuracy: 0.1201 - val_loss: 2.2655 - val_accuracy: 0.1030\n",
      "Epoch 3/50\n",
      "120/120 [==============================] - 3s 22ms/step - loss: 2.1940 - accuracy: 0.1992 - val_loss: 2.0427 - val_accuracy: 0.3848\n",
      "Epoch 4/50\n",
      "120/120 [==============================] - 3s 22ms/step - loss: 1.8237 - accuracy: 0.3758 - val_loss: 1.4814 - val_accuracy: 0.4670\n",
      "Epoch 5/50\n",
      "120/120 [==============================] - 3s 23ms/step - loss: 1.3195 - accuracy: 0.5342 - val_loss: 1.1307 - val_accuracy: 0.6121\n",
      "Epoch 6/50\n",
      "120/120 [==============================] - 3s 24ms/step - loss: 0.9577 - accuracy: 0.6896 - val_loss: 0.7416 - val_accuracy: 0.7868\n",
      "Epoch 7/50\n",
      "120/120 [==============================] - 3s 24ms/step - loss: 0.6535 - accuracy: 0.8029 - val_loss: 0.5504 - val_accuracy: 0.8433\n",
      "Epoch 8/50\n",
      "120/120 [==============================] - 3s 24ms/step - loss: 0.5020 - accuracy: 0.8531 - val_loss: 0.4423 - val_accuracy: 0.8739\n",
      "Epoch 9/50\n",
      "120/120 [==============================] - 3s 25ms/step - loss: 0.4294 - accuracy: 0.8736 - val_loss: 0.4066 - val_accuracy: 0.8793\n",
      "Epoch 10/50\n",
      "120/120 [==============================] - 3s 23ms/step - loss: 0.3704 - accuracy: 0.8919 - val_loss: 0.3352 - val_accuracy: 0.9032\n",
      "Epoch 11/50\n",
      "120/120 [==============================] - 3s 22ms/step - loss: 0.3232 - accuracy: 0.9079 - val_loss: 0.3041 - val_accuracy: 0.9099\n",
      "Epoch 12/50\n",
      "120/120 [==============================] - 3s 23ms/step - loss: 0.2935 - accuracy: 0.9150 - val_loss: 0.2857 - val_accuracy: 0.9145\n",
      "Epoch 13/50\n",
      "120/120 [==============================] - 3s 25ms/step - loss: 0.2645 - accuracy: 0.9240 - val_loss: 0.2507 - val_accuracy: 0.9285\n",
      "Epoch 14/50\n",
      "120/120 [==============================] - 3s 25ms/step - loss: 0.2448 - accuracy: 0.9297 - val_loss: 0.2414 - val_accuracy: 0.9301\n",
      "Epoch 15/50\n",
      "120/120 [==============================] - 3s 28ms/step - loss: 0.2264 - accuracy: 0.9351 - val_loss: 0.2348 - val_accuracy: 0.9311\n",
      "Epoch 16/50\n",
      "120/120 [==============================] - 3s 27ms/step - loss: 0.2114 - accuracy: 0.9391 - val_loss: 0.2216 - val_accuracy: 0.9335\n",
      "Epoch 17/50\n",
      "120/120 [==============================] - 3s 25ms/step - loss: 0.2019 - accuracy: 0.9423 - val_loss: 0.2020 - val_accuracy: 0.9447\n",
      "Epoch 18/50\n",
      "120/120 [==============================] - 3s 25ms/step - loss: 0.1933 - accuracy: 0.9441 - val_loss: 0.1964 - val_accuracy: 0.9438\n",
      "Epoch 19/50\n",
      "120/120 [==============================] - 3s 25ms/step - loss: 0.1781 - accuracy: 0.9489 - val_loss: 0.1912 - val_accuracy: 0.9427\n",
      "Epoch 20/50\n",
      "120/120 [==============================] - 3s 24ms/step - loss: 0.1658 - accuracy: 0.9513 - val_loss: 0.1815 - val_accuracy: 0.9478\n",
      "Epoch 21/50\n",
      "120/120 [==============================] - 3s 24ms/step - loss: 0.1640 - accuracy: 0.9518 - val_loss: 0.1768 - val_accuracy: 0.9498\n",
      "Epoch 22/50\n",
      "120/120 [==============================] - 3s 23ms/step - loss: 0.1566 - accuracy: 0.9537 - val_loss: 0.1737 - val_accuracy: 0.9480\n",
      "Epoch 23/50\n",
      "120/120 [==============================] - 3s 26ms/step - loss: 0.1461 - accuracy: 0.9569 - val_loss: 0.1624 - val_accuracy: 0.9546\n",
      "Epoch 24/50\n",
      "120/120 [==============================] - 3s 26ms/step - loss: 0.1439 - accuracy: 0.9576 - val_loss: 0.1730 - val_accuracy: 0.9517\n",
      "Epoch 25/50\n",
      "120/120 [==============================] - 3s 25ms/step - loss: 0.1423 - accuracy: 0.9588 - val_loss: 0.1739 - val_accuracy: 0.9522\n",
      "Epoch 26/50\n",
      "120/120 [==============================] - 3s 24ms/step - loss: 0.1359 - accuracy: 0.9597 - val_loss: 0.1883 - val_accuracy: 0.9472\n",
      "Epoch 27/50\n",
      "120/120 [==============================] - 3s 27ms/step - loss: 0.1373 - accuracy: 0.9603 - val_loss: 0.1679 - val_accuracy: 0.9515\n",
      "Epoch 28/50\n",
      "120/120 [==============================] - 3s 26ms/step - loss: 0.1345 - accuracy: 0.9604 - val_loss: 0.1464 - val_accuracy: 0.9593\n",
      "Epoch 29/50\n",
      "120/120 [==============================] - 3s 28ms/step - loss: 0.1297 - accuracy: 0.9621 - val_loss: 0.1401 - val_accuracy: 0.9589\n",
      "Epoch 30/50\n",
      "120/120 [==============================] - 3s 24ms/step - loss: 0.1158 - accuracy: 0.9654 - val_loss: 0.1545 - val_accuracy: 0.9572\n",
      "Epoch 31/50\n",
      "120/120 [==============================] - 3s 24ms/step - loss: 0.1221 - accuracy: 0.9637 - val_loss: 0.1399 - val_accuracy: 0.9608\n",
      "Epoch 32/50\n",
      "120/120 [==============================] - 3s 23ms/step - loss: 0.1178 - accuracy: 0.9651 - val_loss: 0.1390 - val_accuracy: 0.9609\n",
      "Epoch 33/50\n",
      "120/120 [==============================] - 3s 23ms/step - loss: 0.1162 - accuracy: 0.9664 - val_loss: 0.1326 - val_accuracy: 0.9626\n",
      "Epoch 34/50\n",
      "120/120 [==============================] - 3s 25ms/step - loss: 0.1127 - accuracy: 0.9661 - val_loss: 0.1714 - val_accuracy: 0.9537\n",
      "Epoch 35/50\n",
      "120/120 [==============================] - 3s 23ms/step - loss: 0.1074 - accuracy: 0.9686 - val_loss: 0.1645 - val_accuracy: 0.9551\n",
      "Epoch 36/50\n",
      "120/120 [==============================] - 3s 21ms/step - loss: 0.1048 - accuracy: 0.9694 - val_loss: 0.1469 - val_accuracy: 0.9606\n",
      "Epoch 37/50\n",
      "120/120 [==============================] - 3s 22ms/step - loss: 0.1009 - accuracy: 0.9697 - val_loss: 0.1331 - val_accuracy: 0.9608\n",
      "Epoch 38/50\n",
      "120/120 [==============================] - 3s 23ms/step - loss: 0.1009 - accuracy: 0.9704 - val_loss: 0.1326 - val_accuracy: 0.9628\n",
      "Epoch 39/50\n",
      "120/120 [==============================] - 3s 21ms/step - loss: 0.0906 - accuracy: 0.9736 - val_loss: 0.1387 - val_accuracy: 0.9619\n",
      "Epoch 40/50\n",
      "120/120 [==============================] - 3s 23ms/step - loss: 0.0911 - accuracy: 0.9727 - val_loss: 0.1382 - val_accuracy: 0.9643\n",
      "Epoch 41/50\n",
      "120/120 [==============================] - 3s 22ms/step - loss: 0.0838 - accuracy: 0.9746 - val_loss: 0.1305 - val_accuracy: 0.9649\n",
      "Epoch 42/50\n",
      "120/120 [==============================] - 3s 23ms/step - loss: 0.0863 - accuracy: 0.9737 - val_loss: 0.1325 - val_accuracy: 0.9638\n",
      "Epoch 43/50\n",
      "120/120 [==============================] - 3s 23ms/step - loss: 0.0841 - accuracy: 0.9747 - val_loss: 0.1240 - val_accuracy: 0.9673\n",
      "Epoch 44/50\n",
      "120/120 [==============================] - 3s 25ms/step - loss: 0.0862 - accuracy: 0.9743 - val_loss: 0.1380 - val_accuracy: 0.9655\n",
      "Epoch 45/50\n",
      "120/120 [==============================] - 3s 24ms/step - loss: 0.0785 - accuracy: 0.9765 - val_loss: 0.1282 - val_accuracy: 0.9650\n",
      "Epoch 46/50\n",
      "120/120 [==============================] - 3s 24ms/step - loss: 0.0729 - accuracy: 0.9782 - val_loss: 0.1330 - val_accuracy: 0.9649\n",
      "Epoch 47/50\n",
      "120/120 [==============================] - 3s 23ms/step - loss: 0.0756 - accuracy: 0.9780 - val_loss: 0.1286 - val_accuracy: 0.9672\n",
      "Epoch 48/50\n",
      "120/120 [==============================] - 3s 23ms/step - loss: 0.0745 - accuracy: 0.9776 - val_loss: 0.1186 - val_accuracy: 0.9695\n",
      "Epoch 49/50\n",
      "120/120 [==============================] - 3s 24ms/step - loss: 0.0652 - accuracy: 0.9806 - val_loss: 0.1242 - val_accuracy: 0.9687\n",
      "Epoch 50/50\n",
      "120/120 [==============================] - 3s 24ms/step - loss: 0.0655 - accuracy: 0.9803 - val_loss: 0.1175 - val_accuracy: 0.9694\n"
     ]
    }
   ],
   "source": [
    "SVDNetwork_history=SVDNetwork.fit(x_train, y_train, batch_size=500, epochs=50, validation_data=(x_test, y_test))"
   ]
  },
  {
   "cell_type": "code",
   "execution_count": 85,
   "id": "c7968fea",
   "metadata": {
    "scrolled": true
   },
   "outputs": [
    {
     "data": {
      "image/png": "[encoded data removed]",
      "text/plain": [
       "<Figure size 1080x1080 with 1 Axes>"
      ]
     },
     "metadata": {
      "needs_background": "light"
     },
     "output_type": "display_data"
    }
   ],
   "source": [
    "fig = plt.figure(figsize=(15,15))\n",
    "plt.plot(SVDNetwork_history.history[\"val_accuracy\"],label = \"SVD Network\")\n",
    "plt.xlabel('Epochs')\n",
    "plt.ylabel('Test Accuracy')\n",
    "plt.legend()\n",
    "plt.show()"
   ]
  },
  {
   "cell_type": "markdown",
   "id": "da244951",
   "metadata": {},
   "source": [
    "# Question 3"
   ]
  },
  {
   "cell_type": "code",
   "execution_count": 20,
   "id": "428f2481",
   "metadata": {},
   "outputs": [],
   "source": [
    "@tf.custom_gradient\n",
    "def weight_update(w):\n",
    "    s,u,v=tf.linalg.svd(w,compute_uv=True,full_matrices=True)\n",
    "    u = u[:, :20]\n",
    "    s = s[:20]\n",
    "    v = v[:, :20]\n",
    "    wt = tf.matmul(u, tf.matmul(tf.linalg.diag(s), tf.transpose(v)))\n",
    "    def grad_temp(dy):\n",
    "        return dy\n",
    "    return wt, grad_temp\n",
    "\n",
    "class CustSVDLayer(tf.keras.layers.Layer):\n",
    "    def __init__(self,units,weights):\n",
    "      super(CustSVDLayer, self).__init__()\n",
    "      self.units=units\n",
    "      self.activation=tf.keras.activations.get(\"relu\")\n",
    "      self.w=tf.Variable(\n",
    "            initial_value=weights[0],\n",
    "            trainable=True,\n",
    "        )\n",
    "      self.b=tf.Variable(\n",
    "            initial_value=weights[1],\n",
    "            trainable=True,\n",
    "        )\n",
    "    def call(self, inputs):\n",
    "        w1=weight_update(self.w)  \n",
    "        a=self.activation(tf.matmul(inputs,w1)+self.b)\n",
    "        return a"
   ]
  },
  {
   "cell_type": "code",
   "execution_count": 21,
   "id": "cac3f45e",
   "metadata": {},
   "outputs": [],
   "source": [
    "model_3=tf.keras.Sequential(\n",
    "    [     tf.keras.layers.Flatten(input_shape=(28,28,1)),\n",
    "     CustSVDLayer(units=1024,weights=[weight_matrix[0],bias_matrix[0]]),\n",
    "     CustSVDLayer(units=1024,weights=[weight_matrix[1],bias_matrix[1]]),\n",
    "     CustSVDLayer(units=1024,weights=[weight_matrix[2],bias_matrix[2]]),\n",
    "     CustSVDLayer(units=1024,weights=[weight_matrix[3],bias_matrix[3]]),\n",
    "     CustSVDLayer(units=1024,weights=[weight_matrix[4],bias_matrix[4]]),\n",
    "     tf.keras.layers.Dense(units=10,input_shape=(1024,),activation='softmax',name='last_layer',weights=[w_matrix[5],b_matrix[5]])\n",
    "    ]\n",
    ")\n"
   ]
  },
  {
   "cell_type": "code",
   "execution_count": 22,
   "id": "ed7ca8cb",
   "metadata": {},
   "outputs": [
    {
     "name": "stdout",
     "output_type": "stream",
     "text": [
      "Epoch 1/10\n",
      "469/469 [==============================] - 388s 825ms/step - loss: 0.0215 - accuracy: 0.9697 - val_loss: 0.0198 - val_accuracy: 0.9695\n",
      "Epoch 2/10\n",
      "469/469 [==============================] - 387s 826ms/step - loss: 0.0150 - accuracy: 0.9754 - val_loss: 0.0190 - val_accuracy: 0.9707\n",
      "Epoch 3/10\n",
      "469/469 [==============================] - 385s 820ms/step - loss: 0.0136 - accuracy: 0.9780 - val_loss: 0.0183 - val_accuracy: 0.9724\n",
      "Epoch 4/10\n",
      "469/469 [==============================] - 385s 821ms/step - loss: 0.0122 - accuracy: 0.9797 - val_loss: 0.0176 - val_accuracy: 0.9731\n",
      "Epoch 5/10\n",
      "469/469 [==============================] - 384s 820ms/step - loss: 0.0117 - accuracy: 0.9807 - val_loss: 0.0153 - val_accuracy: 0.9755\n",
      "Epoch 6/10\n",
      "469/469 [==============================] - 383s 816ms/step - loss: 0.0111 - accuracy: 0.9812 - val_loss: 0.0164 - val_accuracy: 0.9770\n",
      "Epoch 7/10\n",
      "469/469 [==============================] - 387s 826ms/step - loss: 0.0107 - accuracy: 0.9830 - val_loss: 0.0166 - val_accuracy: 0.9727\n",
      "Epoch 8/10\n",
      "469/469 [==============================] - 372s 793ms/step - loss: 0.0100 - accuracy: 0.9826 - val_loss: 0.0179 - val_accuracy: 0.9740\n",
      "Epoch 9/10\n",
      "469/469 [==============================] - 370s 789ms/step - loss: 0.0104 - accuracy: 0.9819 - val_loss: 0.0185 - val_accuracy: 0.9714\n",
      "Epoch 10/10\n",
      "469/469 [==============================] - 370s 789ms/step - loss: 0.0096 - accuracy: 0.9832 - val_loss: 0.0175 - val_accuracy: 0.9748\n"
     ]
    }
   ],
   "source": [
    "model_3.compile(optimizer=tf.keras.optimizers.Adam(),loss='categorical_crossentropy',metrics=['accuracy'])\n",
    "model3h=model_3.fit(x_train, y_train, shuffle=True,batch_size=128 ,epochs=10,validation_data=(x_test,y_test))"
   ]
  },
  {
   "cell_type": "markdown",
   "id": "c43cdf2a",
   "metadata": {},
   "source": [
    "# Question 4"
   ]
  },
  {
   "cell_type": "code",
   "execution_count": 113,
   "id": "8f39b9c6",
   "metadata": {},
   "outputs": [],
   "source": [
    "import pickle\n",
    "with open('trs.pkl', 'rb') as file:\n",
    "    train_data = pickle.load(file)\n",
    "with open('tes.pkl', 'rb') as file:\n",
    "    test_data = pickle.load(file)"
   ]
  },
  {
   "cell_type": "code",
   "execution_count": 114,
   "id": "672f799c",
   "metadata": {
    "executionInfo": {
     "elapsed": 7334,
     "status": "ok",
     "timestamp": 1636959950139,
     "user": {
      "displayName": "Giri Allada",
      "photoUrl": "https://lh3.googleusercontent.com/a-/AOh14Gg-AXTKnQR8yj4zJw6KKkggHzvhCOV-jLhuoKGi=s64",
      "userId": "07901476334297442322"
     },
     "user_tz": 420
    },
    "id": "pvqs0Bzu8W_0"
   },
   "outputs": [],
   "source": [
    "import random\n",
    "def generate_sample_positive_indices(start,end):\n",
    "    temp = range(start,end)\n",
    "    indices = []\n",
    "    while len(indices) != 45:\n",
    "        temp_index=random.sample(temp,2)\n",
    "        ti=[0,0]\n",
    "        ti[1],ti[0] = temp_index[0],temp_index[1]\n",
    "        if ti not in indices and temp_index not in indices:\n",
    "            indices.append(temp_index)\n",
    "    return indices\n",
    "def generate_sample_negative_indices(start,size,samp):\n",
    "    temp = range(start,start+10)\n",
    "    indices=[]\n",
    "    i=0\n",
    "    while len(indices)!=samp:\n",
    "        while i<size:\n",
    "            # print(i not in temp)\n",
    "            if i not in temp:\n",
    "                xy=range(i,i+10)\n",
    "                tempa =[random.sample(temp,1)[0],random.sample(xy,1)[0]]\n",
    "                ti=[0,0]\n",
    "                ti[1],ti[0] = tempa[0],tempa[1]\n",
    "                if ti not in indices and tempa not in indices:\n",
    "                    indices.append(tempa)\n",
    "                    len(indices)\n",
    "                    break\n",
    "            else:\n",
    "                break\n",
    "        i=i+10\n",
    "    return indices"
   ]
  },
  {
   "cell_type": "code",
   "execution_count": 115,
   "id": "c7517e98",
   "metadata": {},
   "outputs": [
    {
     "name": "stdout",
     "output_type": "stream",
     "text": [
      "(4500, 16180)\n",
      "(4500, 16180)\n",
      "(4500,)\n"
     ]
    }
   ],
   "source": [
    "y=[]\n",
    "left=[]\n",
    "right=[]\n",
    "for x in range(0,500,10):\n",
    "    positive=generate_sample_positive_indices(x,x+10)\n",
    "    negative=random.sample(generate_sample_negative_indices(x,500,49),45)\n",
    "    for i in positive:\n",
    "        left.append(train_data[i[0]])\n",
    "        right.append(train_data[i[1]])\n",
    "        y.append(1)\n",
    "    for j in negative:\n",
    "        left.append(train_data[j[0]])\n",
    "        right.append(train_data[j[1]])\n",
    "        y.append(0)\n",
    "print(np.array(left).shape)\n",
    "print(np.array(right).shape)\n",
    "print(np.array(y).shape)"
   ]
  },
  {
   "cell_type": "code",
   "execution_count": 116,
   "id": "e54a2219",
   "metadata": {},
   "outputs": [],
   "source": [
    "import librosa\n",
    "def preprocess_sound(sound):\n",
    "    processed_sound=np.abs(librosa.stft(np.array(sound), n_fft=1024, hop_length=512))\n",
    "    return(processed_sound)\n"
   ]
  },
  {
   "cell_type": "code",
   "execution_count": 117,
   "id": "bcb60f5c",
   "metadata": {},
   "outputs": [],
   "source": [
    "S_L_Train=[]\n",
    "S_R_Train=[]\n",
    "for l in left:\n",
    "    S_L_Train.append(preprocess_sound(l))\n",
    "for r in right:\n",
    "    S_R_Train.append(preprocess_sound(r))\n",
    "S_L_Train=np.array(S_L_Train).transpose(0,2,1)\n",
    "S_R_Train=np.array(S_R_Train).transpose(0,2,1)"
   ]
  },
  {
   "cell_type": "code",
   "execution_count": 118,
   "id": "f366d357",
   "metadata": {
    "colab": {
     "base_uri": "https://localhost:8080/"
    },
    "executionInfo": {
     "elapsed": 190,
     "status": "ok",
     "timestamp": 1636959940615,
     "user": {
      "displayName": "Giri Allada",
      "photoUrl": "https://lh3.googleusercontent.com/a-/AOh14Gg-AXTKnQR8yj4zJw6KKkggHzvhCOV-jLhuoKGi=s64",
      "userId": "07901476334297442322"
     },
     "user_tz": 420
    },
    "id": "2spNoJ_Yyx9e",
    "outputId": "9894b655-92a3-405a-8114-71dc61dd8495"
   },
   "outputs": [
    {
     "name": "stdout",
     "output_type": "stream",
     "text": [
      "(760, 22631)\n",
      "(760, 22631)\n",
      "(760,)\n"
     ]
    }
   ],
   "source": [
    "y_test=[]\n",
    "left_test=[]\n",
    "right_test=[]\n",
    "for x in range(0,200,10):\n",
    "    positive=random.sample(generate_sample_positive_indices(x,x+10),19)\n",
    "    negative=random.sample(generate_sample_negative_indices(x,200,19),19)\n",
    "    for i in positive:\n",
    "        left_test.append(test_data[i[0]])\n",
    "        right_test.append(test_data[i[1]])\n",
    "        y_test.append(1)\n",
    "    for j in negative:\n",
    "        left_test.append(test_data[j[0]])\n",
    "        right_test.append(test_data[j[1]])\n",
    "        y_test.append(0)\n",
    "print(np.array(left_test).shape)\n",
    "print(np.array(right_test).shape)\n",
    "print(np.array(y_test).shape)"
   ]
  },
  {
   "cell_type": "code",
   "execution_count": 119,
   "id": "ea8b632c",
   "metadata": {
    "executionInfo": {
     "elapsed": 2205,
     "status": "ok",
     "timestamp": 1636959942816,
     "user": {
      "displayName": "Giri Allada",
      "photoUrl": "https://lh3.googleusercontent.com/a-/AOh14Gg-AXTKnQR8yj4zJw6KKkggHzvhCOV-jLhuoKGi=s64",
      "userId": "07901476334297442322"
     },
     "user_tz": 420
    },
    "id": "qF4R3TSW1G19"
   },
   "outputs": [],
   "source": [
    "S_L_Test=[]\n",
    "S_R_Test=[]\n",
    "for l in left_test:\n",
    "    S_L_Test.append(preprocess_sound(l))\n",
    "for r in right_test:\n",
    "    S_R_Test.append(preprocess_sound(r))\n",
    "S_L_Test=np.array(S_L_Test).transpose(0,2,1)\n",
    "S_R_Test=np.array(S_R_Test).transpose(0,2,1)\n"
   ]
  },
  {
   "cell_type": "code",
   "execution_count": 120,
   "id": "ab6b33c0",
   "metadata": {
    "executionInfo": {
     "elapsed": 7334,
     "status": "ok",
     "timestamp": 1636959950139,
     "user": {
      "displayName": "Giri Allada",
      "photoUrl": "https://lh3.googleusercontent.com/a-/AOh14Gg-AXTKnQR8yj4zJw6KKkggHzvhCOV-jLhuoKGi=s64",
      "userId": "07901476334297442322"
     },
     "user_tz": 420
    },
    "id": "pvqs0Bzu8W_0"
   },
   "outputs": [],
   "source": [
    "left_input = tf.keras.layers.Input(shape=(None,513))\n",
    "right_input = tf.keras.layers.Input(shape=(None,513))\n",
    "siaml = tf.keras.Sequential()\n",
    "siaml.add(tf.keras.layers.GRU(activation='tanh',units=512))\n",
    "siaml.add(tf.keras.layers.GRU(activation='tanh',units=512))\n",
    "siamr = tf.keras.Sequential()\n",
    "siamr.add(tf.keras.layers.GRU(activation='tanh',units=512))\n",
    "siamr.add(tf.keras.layers.GRU(activation='tanh',units=512))\n",
    "encoded_l = siaml(left_input)\n",
    "encoded_r = siamr(right_input)"
   ]
  },
  {
   "cell_type": "code",
   "execution_count": 121,
   "id": "2239a7e4",
   "metadata": {
    "executionInfo": {
     "elapsed": 7334,
     "status": "ok",
     "timestamp": 1636959950139,
     "user": {
      "displayName": "Giri Allada",
      "photoUrl": "https://lh3.googleusercontent.com/a-/AOh14Gg-AXTKnQR8yj4zJw6KKkggHzvhCOV-jLhuoKGi=s64",
      "userId": "07901476334297442322"
     },
     "user_tz": 420
    },
    "id": "pvqs0Bzu8W_0"
   },
   "outputs": [],
   "source": [
    "L1_layer = tf.keras.layers.Lambda(lambda tensors:tf.reduce_sum( tf.multiply( tensors[0], tensors[1] ), 1 ))"
   ]
  },
  {
   "cell_type": "code",
   "execution_count": 123,
   "id": "23c9405e",
   "metadata": {
    "executionInfo": {
     "elapsed": 7334,
     "status": "ok",
     "timestamp": 1636959950139,
     "user": {
      "displayName": "Giri Allada",
      "photoUrl": "https://lh3.googleusercontent.com/a-/AOh14Gg-AXTKnQR8yj4zJw6KKkggHzvhCOV-jLhuoKGi=s64",
      "userId": "07901476334297442322"
     },
     "user_tz": 420
    },
    "id": "pvqs0Bzu8W_0"
   },
   "outputs": [],
   "source": [
    "siamese_net = tf.keras.Model(inputs=[left_input,right_input],outputs= tf.keras.layers.Dense(1,activation='sigmoid')(L1_layer([encoded_l, encoded_r])))\n",
    "siamese_net.compile(loss=tf.keras.losses.BinaryCrossentropy() , optimizer=tf.keras.optimizers.Adam(learning_rate=0.000001), metrics= [\"accuracy\"])"
   ]
  },
  {
   "cell_type": "code",
   "execution_count": 126,
   "id": "9873873f",
   "metadata": {
    "colab": {
     "base_uri": "https://localhost:8080/"
    },
    "executionInfo": {
     "elapsed": 561514,
     "status": "ok",
     "timestamp": 1636960511644,
     "user": {
      "displayName": "Giri Allada",
      "photoUrl": "https://lh3.googleusercontent.com/a-/AOh14Gg-AXTKnQR8yj4zJw6KKkggHzvhCOV-jLhuoKGi=s64",
      "userId": "07901476334297442322"
     },
     "user_tz": 420
    },
    "id": "KoFxaGSs8LEt",
    "outputId": "e4406c13-af98-4728-bdcc-917eacd9bc34",
    "scrolled": true
   },
   "outputs": [
    {
     "name": "stdout",
     "output_type": "stream",
     "text": [
      "Epoch 1/200\n",
      "90/90 [==============================] - 51s 539ms/step - loss: 0.7325 - accuracy: 0.5060 - val_loss: 0.7289 - val_accuracy: 0.5092\n",
      "Epoch 2/200\n",
      "90/90 [==============================] - 45s 498ms/step - loss: 0.7174 - accuracy: 0.5091 - val_loss: 0.7161 - val_accuracy: 0.5158\n",
      "Epoch 3/200\n",
      "90/90 [==============================] - 45s 496ms/step - loss: 0.7071 - accuracy: 0.5200 - val_loss: 0.7070 - val_accuracy: 0.5289\n",
      "Epoch 4/200\n",
      "90/90 [==============================] - 45s 497ms/step - loss: 0.6985 - accuracy: 0.5316 - val_loss: 0.6963 - val_accuracy: 0.5250\n",
      "Epoch 5/200\n",
      "90/90 [==============================] - 45s 496ms/step - loss: 0.6911 - accuracy: 0.5416 - val_loss: 0.6891 - val_accuracy: 0.5421\n",
      "Epoch 6/200\n",
      "90/90 [==============================] - 46s 509ms/step - loss: 0.6845 - accuracy: 0.5496 - val_loss: 0.6843 - val_accuracy: 0.5487\n",
      "Epoch 7/200\n",
      "90/90 [==============================] - 45s 500ms/step - loss: 0.6788 - accuracy: 0.5636 - val_loss: 0.6778 - val_accuracy: 0.5500\n",
      "Epoch 8/200\n",
      "90/90 [==============================] - 46s 511ms/step - loss: 0.6733 - accuracy: 0.5751 - val_loss: 0.6728 - val_accuracy: 0.5592\n",
      "Epoch 9/200\n",
      "90/90 [==============================] - 44s 485ms/step - loss: 0.6684 - accuracy: 0.5807 - val_loss: 0.6701 - val_accuracy: 0.5711\n",
      "Epoch 10/200\n",
      "90/90 [==============================] - 46s 508ms/step - loss: 0.6635 - accuracy: 0.5913 - val_loss: 0.6625 - val_accuracy: 0.5684\n",
      "Epoch 11/200\n",
      "90/90 [==============================] - 49s 545ms/step - loss: 0.6586 - accuracy: 0.6024 - val_loss: 0.6580 - val_accuracy: 0.5737\n",
      "Epoch 12/200\n",
      "90/90 [==============================] - 45s 501ms/step - loss: 0.6540 - accuracy: 0.6098 - val_loss: 0.6561 - val_accuracy: 0.5895\n",
      "Epoch 13/200\n",
      "90/90 [==============================] - 44s 489ms/step - loss: 0.6499 - accuracy: 0.6180 - val_loss: 0.6517 - val_accuracy: 0.6013\n",
      "Epoch 14/200\n",
      "90/90 [==============================] - 47s 517ms/step - loss: 0.6455 - accuracy: 0.6249 - val_loss: 0.6485 - val_accuracy: 0.6066\n",
      "Epoch 15/200\n",
      "90/90 [==============================] - 44s 487ms/step - loss: 0.6415 - accuracy: 0.6338 - val_loss: 0.6449 - val_accuracy: 0.6026\n",
      "Epoch 16/200\n",
      "90/90 [==============================] - 44s 485ms/step - loss: 0.6376 - accuracy: 0.6391 - val_loss: 0.6412 - val_accuracy: 0.6105\n",
      "Epoch 17/200\n",
      "90/90 [==============================] - 44s 486ms/step - loss: 0.6334 - accuracy: 0.6447 - val_loss: 0.6382 - val_accuracy: 0.6132\n",
      "Epoch 18/200\n",
      "90/90 [==============================] - 45s 500ms/step - loss: 0.6295 - accuracy: 0.6558 - val_loss: 0.6374 - val_accuracy: 0.6171\n",
      "Epoch 19/200\n",
      "90/90 [==============================] - 44s 493ms/step - loss: 0.6260 - accuracy: 0.6658 - val_loss: 0.6333 - val_accuracy: 0.6184\n",
      "Epoch 20/200\n",
      "90/90 [==============================] - 45s 505ms/step - loss: 0.6223 - accuracy: 0.6678 - val_loss: 0.6291 - val_accuracy: 0.6171\n",
      "Epoch 21/200\n",
      "90/90 [==============================] - 44s 492ms/step - loss: 0.6185 - accuracy: 0.6753 - val_loss: 0.6266 - val_accuracy: 0.6197\n",
      "Epoch 22/200\n",
      "90/90 [==============================] - 44s 490ms/step - loss: 0.6150 - accuracy: 0.6807 - val_loss: 0.6251 - val_accuracy: 0.6395\n",
      "Epoch 23/200\n",
      "90/90 [==============================] - 45s 498ms/step - loss: 0.6115 - accuracy: 0.6858 - val_loss: 0.6225 - val_accuracy: 0.6329\n",
      "Epoch 24/200\n",
      "90/90 [==============================] - 44s 494ms/step - loss: 0.6081 - accuracy: 0.6931 - val_loss: 0.6210 - val_accuracy: 0.6434\n",
      "Epoch 25/200\n",
      "90/90 [==============================] - 45s 495ms/step - loss: 0.6045 - accuracy: 0.6951 - val_loss: 0.6183 - val_accuracy: 0.6421\n",
      "Epoch 26/200\n",
      "90/90 [==============================] - 44s 492ms/step - loss: 0.6014 - accuracy: 0.6982 - val_loss: 0.6158 - val_accuracy: 0.6408\n",
      "Epoch 27/200\n",
      "90/90 [==============================] - 44s 489ms/step - loss: 0.5983 - accuracy: 0.7004 - val_loss: 0.6127 - val_accuracy: 0.6395\n",
      "Epoch 28/200\n",
      "90/90 [==============================] - 43s 482ms/step - loss: 0.5948 - accuracy: 0.7091 - val_loss: 0.6113 - val_accuracy: 0.6421\n",
      "Epoch 29/200\n",
      "90/90 [==============================] - 46s 511ms/step - loss: 0.5914 - accuracy: 0.7118 - val_loss: 0.6091 - val_accuracy: 0.6434\n",
      "Epoch 30/200\n",
      "90/90 [==============================] - 48s 533ms/step - loss: 0.5882 - accuracy: 0.7147 - val_loss: 0.6091 - val_accuracy: 0.6592\n",
      "Epoch 31/200\n",
      "90/90 [==============================] - 48s 535ms/step - loss: 0.5851 - accuracy: 0.7167 - val_loss: 0.6041 - val_accuracy: 0.6434\n",
      "Epoch 32/200\n",
      "90/90 [==============================] - 46s 507ms/step - loss: 0.5816 - accuracy: 0.7198 - val_loss: 0.6056 - val_accuracy: 0.6645\n",
      "Epoch 33/200\n",
      "90/90 [==============================] - 45s 506ms/step - loss: 0.5788 - accuracy: 0.7231 - val_loss: 0.6015 - val_accuracy: 0.6566\n",
      "Epoch 34/200\n",
      "90/90 [==============================] - 44s 491ms/step - loss: 0.5756 - accuracy: 0.7282 - val_loss: 0.5998 - val_accuracy: 0.6618\n",
      "Epoch 35/200\n",
      "90/90 [==============================] - 47s 518ms/step - loss: 0.5728 - accuracy: 0.7311 - val_loss: 0.5980 - val_accuracy: 0.6632\n",
      "Epoch 36/200\n",
      "90/90 [==============================] - 46s 515ms/step - loss: 0.5697 - accuracy: 0.7329 - val_loss: 0.5980 - val_accuracy: 0.6684\n",
      "Epoch 37/200\n",
      "90/90 [==============================] - 46s 515ms/step - loss: 0.5666 - accuracy: 0.7369 - val_loss: 0.5951 - val_accuracy: 0.6645\n",
      "Epoch 38/200\n",
      "90/90 [==============================] - 46s 509ms/step - loss: 0.5635 - accuracy: 0.7431 - val_loss: 0.5940 - val_accuracy: 0.6658\n",
      "Epoch 39/200\n",
      "90/90 [==============================] - 44s 495ms/step - loss: 0.5610 - accuracy: 0.7462 - val_loss: 0.5928 - val_accuracy: 0.6724\n",
      "Epoch 40/200\n",
      "90/90 [==============================] - 45s 499ms/step - loss: 0.5578 - accuracy: 0.7482 - val_loss: 0.5905 - val_accuracy: 0.6684\n",
      "Epoch 41/200\n",
      "90/90 [==============================] - 44s 485ms/step - loss: 0.5547 - accuracy: 0.7527 - val_loss: 0.5923 - val_accuracy: 0.6763\n",
      "Epoch 42/200\n",
      "90/90 [==============================] - 46s 517ms/step - loss: 0.5522 - accuracy: 0.7531 - val_loss: 0.5880 - val_accuracy: 0.6763\n",
      "Epoch 43/200\n",
      "90/90 [==============================] - 46s 512ms/step - loss: 0.5490 - accuracy: 0.7533 - val_loss: 0.5884 - val_accuracy: 0.6776\n",
      "Epoch 44/200\n",
      "90/90 [==============================] - 46s 509ms/step - loss: 0.5464 - accuracy: 0.7573 - val_loss: 0.5896 - val_accuracy: 0.6750\n",
      "Epoch 45/200\n",
      "90/90 [==============================] - 46s 506ms/step - loss: 0.5435 - accuracy: 0.7604 - val_loss: 0.5832 - val_accuracy: 0.6776\n",
      "Epoch 46/200\n",
      "90/90 [==============================] - 46s 516ms/step - loss: 0.5408 - accuracy: 0.7636 - val_loss: 0.5847 - val_accuracy: 0.6803\n",
      "Epoch 47/200\n",
      "90/90 [==============================] - 50s 553ms/step - loss: 0.5381 - accuracy: 0.7651 - val_loss: 0.5843 - val_accuracy: 0.6803\n",
      "Epoch 48/200\n",
      "90/90 [==============================] - 47s 523ms/step - loss: 0.5353 - accuracy: 0.7651 - val_loss: 0.5807 - val_accuracy: 0.6776\n",
      "Epoch 49/200\n",
      "90/90 [==============================] - 46s 510ms/step - loss: 0.5322 - accuracy: 0.7667 - val_loss: 0.5771 - val_accuracy: 0.6842\n",
      "Epoch 50/200\n",
      "90/90 [==============================] - 45s 499ms/step - loss: 0.5300 - accuracy: 0.7682 - val_loss: 0.5772 - val_accuracy: 0.6789\n",
      "Epoch 51/200\n",
      "90/90 [==============================] - 44s 493ms/step - loss: 0.5271 - accuracy: 0.7736 - val_loss: 0.5816 - val_accuracy: 0.6789\n",
      "Epoch 52/200\n",
      "90/90 [==============================] - 45s 503ms/step - loss: 0.5246 - accuracy: 0.7740 - val_loss: 0.5792 - val_accuracy: 0.6776\n",
      "Epoch 53/200\n",
      "90/90 [==============================] - 44s 494ms/step - loss: 0.5220 - accuracy: 0.7760 - val_loss: 0.5756 - val_accuracy: 0.6750\n",
      "Epoch 54/200\n",
      "90/90 [==============================] - 47s 523ms/step - loss: 0.5190 - accuracy: 0.7747 - val_loss: 0.5745 - val_accuracy: 0.6750\n",
      "Epoch 55/200\n",
      "90/90 [==============================] - 46s 506ms/step - loss: 0.5167 - accuracy: 0.7784 - val_loss: 0.5729 - val_accuracy: 0.6829\n",
      "Epoch 56/200\n",
      "90/90 [==============================] - 46s 516ms/step - loss: 0.5140 - accuracy: 0.7818 - val_loss: 0.5713 - val_accuracy: 0.6842\n",
      "Epoch 57/200\n",
      "90/90 [==============================] - 47s 517ms/step - loss: 0.5114 - accuracy: 0.7816 - val_loss: 0.5696 - val_accuracy: 0.6829\n",
      "Epoch 58/200\n",
      "90/90 [==============================] - 46s 510ms/step - loss: 0.5089 - accuracy: 0.7829 - val_loss: 0.5709 - val_accuracy: 0.6829\n",
      "Epoch 59/200\n",
      "90/90 [==============================] - 46s 513ms/step - loss: 0.5064 - accuracy: 0.7836 - val_loss: 0.5671 - val_accuracy: 0.6842\n",
      "Epoch 60/200\n",
      "90/90 [==============================] - 46s 510ms/step - loss: 0.5041 - accuracy: 0.7873 - val_loss: 0.5691 - val_accuracy: 0.6776\n",
      "Epoch 61/200\n",
      "90/90 [==============================] - 46s 511ms/step - loss: 0.5014 - accuracy: 0.7860 - val_loss: 0.5715 - val_accuracy: 0.6763\n",
      "Epoch 62/200\n",
      "90/90 [==============================] - 46s 511ms/step - loss: 0.4990 - accuracy: 0.7898 - val_loss: 0.5680 - val_accuracy: 0.6763\n",
      "Epoch 63/200\n",
      "90/90 [==============================] - 45s 502ms/step - loss: 0.4963 - accuracy: 0.7909 - val_loss: 0.5672 - val_accuracy: 0.6816\n",
      "Epoch 64/200\n",
      "90/90 [==============================] - 44s 485ms/step - loss: 0.4940 - accuracy: 0.7916 - val_loss: 0.5658 - val_accuracy: 0.6816\n",
      "Epoch 65/200\n",
      "90/90 [==============================] - 44s 493ms/step - loss: 0.4918 - accuracy: 0.7953 - val_loss: 0.5701 - val_accuracy: 0.6750\n",
      "Epoch 66/200\n",
      "90/90 [==============================] - 45s 505ms/step - loss: 0.4896 - accuracy: 0.7949 - val_loss: 0.5655 - val_accuracy: 0.6803\n",
      "Epoch 67/200\n",
      "90/90 [==============================] - 46s 514ms/step - loss: 0.4868 - accuracy: 0.7978 - val_loss: 0.5622 - val_accuracy: 0.6842\n",
      "Epoch 68/200\n",
      "90/90 [==============================] - 46s 514ms/step - loss: 0.4843 - accuracy: 0.7998 - val_loss: 0.5617 - val_accuracy: 0.6868\n",
      "Epoch 69/200\n",
      "90/90 [==============================] - 43s 483ms/step - loss: 0.4823 - accuracy: 0.8013 - val_loss: 0.5613 - val_accuracy: 0.6842\n",
      "Epoch 70/200\n",
      "90/90 [==============================] - 44s 485ms/step - loss: 0.4798 - accuracy: 0.8044 - val_loss: 0.5625 - val_accuracy: 0.6829\n",
      "Epoch 71/200\n",
      "90/90 [==============================] - 45s 500ms/step - loss: 0.4774 - accuracy: 0.8044 - val_loss: 0.5617 - val_accuracy: 0.6868\n",
      "Epoch 72/200\n",
      "90/90 [==============================] - 45s 501ms/step - loss: 0.4750 - accuracy: 0.8051 - val_loss: 0.5595 - val_accuracy: 0.6895\n",
      "Epoch 73/200\n",
      "90/90 [==============================] - 46s 510ms/step - loss: 0.4729 - accuracy: 0.8071 - val_loss: 0.5607 - val_accuracy: 0.6868\n",
      "Epoch 74/200\n",
      "90/90 [==============================] - 45s 495ms/step - loss: 0.4707 - accuracy: 0.8082 - val_loss: 0.5642 - val_accuracy: 0.6895\n",
      "Epoch 75/200\n",
      "90/90 [==============================] - 44s 491ms/step - loss: 0.4686 - accuracy: 0.8120 - val_loss: 0.5628 - val_accuracy: 0.6921\n",
      "Epoch 76/200\n",
      "90/90 [==============================] - 44s 486ms/step - loss: 0.4665 - accuracy: 0.8131 - val_loss: 0.5596 - val_accuracy: 0.6908\n",
      "Epoch 77/200\n",
      "90/90 [==============================] - 44s 484ms/step - loss: 0.4641 - accuracy: 0.8158 - val_loss: 0.5582 - val_accuracy: 0.6947\n",
      "Epoch 78/200\n",
      "90/90 [==============================] - 43s 483ms/step - loss: 0.4617 - accuracy: 0.8142 - val_loss: 0.5570 - val_accuracy: 0.6961\n",
      "Epoch 79/200\n",
      "90/90 [==============================] - 44s 495ms/step - loss: 0.4597 - accuracy: 0.8153 - val_loss: 0.5584 - val_accuracy: 0.6974\n",
      "Epoch 80/200\n",
      "90/90 [==============================] - 44s 492ms/step - loss: 0.4576 - accuracy: 0.8147 - val_loss: 0.5560 - val_accuracy: 0.6947\n",
      "Epoch 81/200\n",
      "90/90 [==============================] - 46s 512ms/step - loss: 0.4554 - accuracy: 0.8182 - val_loss: 0.5578 - val_accuracy: 0.6961\n",
      "Epoch 82/200\n",
      "90/90 [==============================] - 45s 497ms/step - loss: 0.4533 - accuracy: 0.8200 - val_loss: 0.5559 - val_accuracy: 0.6961\n",
      "Epoch 83/200\n",
      "90/90 [==============================] - 48s 537ms/step - loss: 0.4512 - accuracy: 0.8202 - val_loss: 0.5607 - val_accuracy: 0.6974\n",
      "Epoch 84/200\n",
      "90/90 [==============================] - 44s 494ms/step - loss: 0.4492 - accuracy: 0.8211 - val_loss: 0.5581 - val_accuracy: 0.7039\n",
      "Epoch 85/200\n",
      "90/90 [==============================] - 45s 501ms/step - loss: 0.4471 - accuracy: 0.8222 - val_loss: 0.5551 - val_accuracy: 0.7053\n",
      "Epoch 86/200\n",
      "90/90 [==============================] - 45s 499ms/step - loss: 0.4448 - accuracy: 0.8242 - val_loss: 0.5547 - val_accuracy: 0.7053\n",
      "Epoch 87/200\n",
      "90/90 [==============================] - 44s 489ms/step - loss: 0.4428 - accuracy: 0.8247 - val_loss: 0.5535 - val_accuracy: 0.7026\n",
      "Epoch 88/200\n",
      "90/90 [==============================] - 44s 490ms/step - loss: 0.4410 - accuracy: 0.8267 - val_loss: 0.5539 - val_accuracy: 0.7039\n",
      "Epoch 89/200\n",
      "90/90 [==============================] - 44s 493ms/step - loss: 0.4389 - accuracy: 0.8271 - val_loss: 0.5507 - val_accuracy: 0.7053\n",
      "Epoch 90/200\n",
      "90/90 [==============================] - 45s 500ms/step - loss: 0.4367 - accuracy: 0.8287 - val_loss: 0.5548 - val_accuracy: 0.7079\n",
      "Epoch 91/200\n",
      "90/90 [==============================] - 45s 501ms/step - loss: 0.4347 - accuracy: 0.8296 - val_loss: 0.5491 - val_accuracy: 0.7053\n",
      "Epoch 92/200\n",
      "90/90 [==============================] - 45s 499ms/step - loss: 0.4330 - accuracy: 0.8296 - val_loss: 0.5502 - val_accuracy: 0.7053\n",
      "Epoch 93/200\n",
      "90/90 [==============================] - 45s 498ms/step - loss: 0.4312 - accuracy: 0.8313 - val_loss: 0.5531 - val_accuracy: 0.7039\n",
      "Epoch 94/200\n",
      "90/90 [==============================] - 45s 497ms/step - loss: 0.4292 - accuracy: 0.8313 - val_loss: 0.5523 - val_accuracy: 0.7053\n",
      "Epoch 95/200\n",
      "90/90 [==============================] - 45s 497ms/step - loss: 0.4270 - accuracy: 0.8307 - val_loss: 0.5471 - val_accuracy: 0.7053\n",
      "Epoch 96/200\n",
      "90/90 [==============================] - 45s 500ms/step - loss: 0.4254 - accuracy: 0.8324 - val_loss: 0.5495 - val_accuracy: 0.7053\n",
      "Epoch 97/200\n",
      "90/90 [==============================] - 46s 512ms/step - loss: 0.4233 - accuracy: 0.8362 - val_loss: 0.5588 - val_accuracy: 0.6947\n",
      "Epoch 98/200\n",
      "90/90 [==============================] - 46s 515ms/step - loss: 0.4220 - accuracy: 0.8338 - val_loss: 0.5489 - val_accuracy: 0.7066\n",
      "Epoch 99/200\n",
      "90/90 [==============================] - 44s 491ms/step - loss: 0.4200 - accuracy: 0.8362 - val_loss: 0.5521 - val_accuracy: 0.7026\n",
      "Epoch 100/200\n",
      "90/90 [==============================] - 46s 517ms/step - loss: 0.4177 - accuracy: 0.8404 - val_loss: 0.5496 - val_accuracy: 0.7066\n",
      "Epoch 101/200\n",
      "90/90 [==============================] - 47s 518ms/step - loss: 0.4159 - accuracy: 0.8376 - val_loss: 0.5514 - val_accuracy: 0.7026\n",
      "Epoch 102/200\n",
      "90/90 [==============================] - 47s 518ms/step - loss: 0.4141 - accuracy: 0.8422 - val_loss: 0.5502 - val_accuracy: 0.7026\n",
      "Epoch 103/200\n",
      "90/90 [==============================] - 45s 501ms/step - loss: 0.4123 - accuracy: 0.8400 - val_loss: 0.5548 - val_accuracy: 0.7066\n",
      "Epoch 104/200\n",
      "90/90 [==============================] - 45s 499ms/step - loss: 0.4105 - accuracy: 0.8422 - val_loss: 0.5513 - val_accuracy: 0.7026\n",
      "Epoch 105/200\n",
      "90/90 [==============================] - 45s 499ms/step - loss: 0.4087 - accuracy: 0.8424 - val_loss: 0.5461 - val_accuracy: 0.7118\n",
      "Epoch 106/200\n",
      "90/90 [==============================] - 45s 496ms/step - loss: 0.4069 - accuracy: 0.8431 - val_loss: 0.5530 - val_accuracy: 0.7026\n",
      "Epoch 107/200\n",
      "90/90 [==============================] - 45s 500ms/step - loss: 0.4054 - accuracy: 0.8431 - val_loss: 0.5567 - val_accuracy: 0.7013\n",
      "Epoch 108/200\n",
      "90/90 [==============================] - 45s 495ms/step - loss: 0.4039 - accuracy: 0.8420 - val_loss: 0.5518 - val_accuracy: 0.7053\n",
      "Epoch 109/200\n",
      "90/90 [==============================] - 45s 503ms/step - loss: 0.4019 - accuracy: 0.8433 - val_loss: 0.5493 - val_accuracy: 0.7066\n",
      "Epoch 110/200\n",
      "90/90 [==============================] - 46s 509ms/step - loss: 0.4000 - accuracy: 0.8462 - val_loss: 0.5558 - val_accuracy: 0.7013\n",
      "Epoch 111/200\n",
      "90/90 [==============================] - 44s 486ms/step - loss: 0.3983 - accuracy: 0.8456 - val_loss: 0.5453 - val_accuracy: 0.7105\n",
      "Epoch 112/200\n",
      "90/90 [==============================] - 43s 479ms/step - loss: 0.3968 - accuracy: 0.8458 - val_loss: 0.5578 - val_accuracy: 0.7013\n",
      "Epoch 113/200\n"
     ]
    },
    {
     "name": "stdout",
     "output_type": "stream",
     "text": [
      "90/90 [==============================] - 43s 478ms/step - loss: 0.3952 - accuracy: 0.8471 - val_loss: 0.5594 - val_accuracy: 0.7000\n",
      "Epoch 114/200\n",
      "90/90 [==============================] - 43s 479ms/step - loss: 0.3934 - accuracy: 0.8484 - val_loss: 0.5496 - val_accuracy: 0.7079\n",
      "Epoch 115/200\n",
      "90/90 [==============================] - 43s 478ms/step - loss: 0.3917 - accuracy: 0.8487 - val_loss: 0.5495 - val_accuracy: 0.7079\n",
      "Epoch 116/200\n",
      "90/90 [==============================] - 43s 478ms/step - loss: 0.3901 - accuracy: 0.8511 - val_loss: 0.5532 - val_accuracy: 0.7053\n",
      "Epoch 117/200\n",
      "90/90 [==============================] - 43s 477ms/step - loss: 0.3884 - accuracy: 0.8504 - val_loss: 0.5617 - val_accuracy: 0.7026\n",
      "Epoch 118/200\n",
      "90/90 [==============================] - 43s 479ms/step - loss: 0.3869 - accuracy: 0.8516 - val_loss: 0.5549 - val_accuracy: 0.7066\n",
      "Epoch 119/200\n",
      "90/90 [==============================] - 43s 477ms/step - loss: 0.3852 - accuracy: 0.8529 - val_loss: 0.5484 - val_accuracy: 0.7092\n",
      "Epoch 120/200\n",
      "90/90 [==============================] - 43s 477ms/step - loss: 0.3836 - accuracy: 0.8522 - val_loss: 0.5527 - val_accuracy: 0.7053\n",
      "Epoch 121/200\n",
      "90/90 [==============================] - 43s 479ms/step - loss: 0.3821 - accuracy: 0.8518 - val_loss: 0.5521 - val_accuracy: 0.7066\n",
      "Epoch 122/200\n",
      "90/90 [==============================] - 43s 476ms/step - loss: 0.3805 - accuracy: 0.8533 - val_loss: 0.5493 - val_accuracy: 0.7105\n",
      "Epoch 123/200\n",
      "90/90 [==============================] - 43s 480ms/step - loss: 0.3788 - accuracy: 0.8529 - val_loss: 0.5488 - val_accuracy: 0.7145\n",
      "Epoch 124/200\n",
      "90/90 [==============================] - 43s 476ms/step - loss: 0.3773 - accuracy: 0.8531 - val_loss: 0.5485 - val_accuracy: 0.7132\n",
      "Epoch 125/200\n",
      "90/90 [==============================] - 44s 491ms/step - loss: 0.3757 - accuracy: 0.8544 - val_loss: 0.5529 - val_accuracy: 0.7079\n",
      "Epoch 126/200\n",
      "90/90 [==============================] - 43s 476ms/step - loss: 0.3745 - accuracy: 0.8547 - val_loss: 0.5483 - val_accuracy: 0.7145\n",
      "Epoch 127/200\n",
      "90/90 [==============================] - 43s 477ms/step - loss: 0.3728 - accuracy: 0.8560 - val_loss: 0.5492 - val_accuracy: 0.7184\n",
      "Epoch 128/200\n",
      "90/90 [==============================] - 43s 476ms/step - loss: 0.3711 - accuracy: 0.8571 - val_loss: 0.5552 - val_accuracy: 0.7079\n",
      "Epoch 129/200\n",
      "90/90 [==============================] - 43s 476ms/step - loss: 0.3698 - accuracy: 0.8587 - val_loss: 0.5547 - val_accuracy: 0.7105\n",
      "Epoch 130/200\n",
      "90/90 [==============================] - 43s 476ms/step - loss: 0.3683 - accuracy: 0.8578 - val_loss: 0.5475 - val_accuracy: 0.7171\n",
      "Epoch 131/200\n",
      "90/90 [==============================] - 43s 476ms/step - loss: 0.3669 - accuracy: 0.8580 - val_loss: 0.5518 - val_accuracy: 0.7184\n",
      "Epoch 132/200\n",
      "90/90 [==============================] - 43s 477ms/step - loss: 0.3652 - accuracy: 0.8613 - val_loss: 0.5513 - val_accuracy: 0.7171\n",
      "Epoch 133/200\n",
      "90/90 [==============================] - 43s 475ms/step - loss: 0.3638 - accuracy: 0.8587 - val_loss: 0.5516 - val_accuracy: 0.7224\n",
      "Epoch 134/200\n",
      "90/90 [==============================] - 43s 477ms/step - loss: 0.3623 - accuracy: 0.8587 - val_loss: 0.5634 - val_accuracy: 0.7066\n",
      "Epoch 135/200\n",
      "90/90 [==============================] - 43s 477ms/step - loss: 0.3609 - accuracy: 0.8598 - val_loss: 0.5450 - val_accuracy: 0.7197\n",
      "Epoch 136/200\n",
      "90/90 [==============================] - 43s 477ms/step - loss: 0.3592 - accuracy: 0.8629 - val_loss: 0.5610 - val_accuracy: 0.7158\n",
      "Epoch 137/200\n",
      "90/90 [==============================] - 43s 478ms/step - loss: 0.3583 - accuracy: 0.8622 - val_loss: 0.5569 - val_accuracy: 0.7158\n",
      "Epoch 138/200\n",
      "90/90 [==============================] - 43s 478ms/step - loss: 0.3565 - accuracy: 0.8629 - val_loss: 0.5564 - val_accuracy: 0.7145\n",
      "Epoch 139/200\n",
      "90/90 [==============================] - 43s 478ms/step - loss: 0.3552 - accuracy: 0.8653 - val_loss: 0.5508 - val_accuracy: 0.7237\n",
      "Epoch 140/200\n",
      "90/90 [==============================] - 43s 477ms/step - loss: 0.3536 - accuracy: 0.8644 - val_loss: 0.5489 - val_accuracy: 0.7237\n",
      "Epoch 141/200\n",
      "90/90 [==============================] - 43s 480ms/step - loss: 0.3524 - accuracy: 0.8660 - val_loss: 0.5560 - val_accuracy: 0.7171\n",
      "Epoch 142/200\n",
      "90/90 [==============================] - 43s 479ms/step - loss: 0.3508 - accuracy: 0.8649 - val_loss: 0.5410 - val_accuracy: 0.7316\n",
      "Epoch 143/200\n",
      "90/90 [==============================] - 43s 477ms/step - loss: 0.3497 - accuracy: 0.8667 - val_loss: 0.5537 - val_accuracy: 0.7211\n",
      "Epoch 144/200\n",
      "90/90 [==============================] - 43s 481ms/step - loss: 0.3482 - accuracy: 0.8669 - val_loss: 0.5537 - val_accuracy: 0.7211\n",
      "Epoch 145/200\n",
      "90/90 [==============================] - 43s 479ms/step - loss: 0.3468 - accuracy: 0.8671 - val_loss: 0.5483 - val_accuracy: 0.7250\n",
      "Epoch 146/200\n",
      "90/90 [==============================] - 43s 482ms/step - loss: 0.3458 - accuracy: 0.8682 - val_loss: 0.5505 - val_accuracy: 0.7237\n",
      "Epoch 147/200\n",
      "90/90 [==============================] - 44s 485ms/step - loss: 0.3442 - accuracy: 0.8682 - val_loss: 0.5581 - val_accuracy: 0.7237\n",
      "Epoch 148/200\n",
      "90/90 [==============================] - 44s 486ms/step - loss: 0.3429 - accuracy: 0.8689 - val_loss: 0.5521 - val_accuracy: 0.7211\n",
      "Epoch 149/200\n",
      "90/90 [==============================] - 44s 486ms/step - loss: 0.3414 - accuracy: 0.8693 - val_loss: 0.5529 - val_accuracy: 0.7224\n",
      "Epoch 150/200\n",
      "90/90 [==============================] - 44s 489ms/step - loss: 0.3400 - accuracy: 0.8729 - val_loss: 0.5586 - val_accuracy: 0.7237\n",
      "Epoch 151/200\n",
      "90/90 [==============================] - 44s 490ms/step - loss: 0.3389 - accuracy: 0.8722 - val_loss: 0.5518 - val_accuracy: 0.7263\n",
      "Epoch 152/200\n",
      "90/90 [==============================] - 44s 491ms/step - loss: 0.3375 - accuracy: 0.8716 - val_loss: 0.5521 - val_accuracy: 0.7263\n",
      "Epoch 153/200\n",
      "90/90 [==============================] - 44s 495ms/step - loss: 0.3363 - accuracy: 0.8731 - val_loss: 0.5560 - val_accuracy: 0.7237\n",
      "Epoch 154/200\n",
      "90/90 [==============================] - 44s 491ms/step - loss: 0.3349 - accuracy: 0.8729 - val_loss: 0.5506 - val_accuracy: 0.7276\n",
      "Epoch 155/200\n",
      "90/90 [==============================] - 45s 496ms/step - loss: 0.3338 - accuracy: 0.8738 - val_loss: 0.5532 - val_accuracy: 0.7263\n",
      "Epoch 156/200\n",
      "90/90 [==============================] - 45s 495ms/step - loss: 0.3323 - accuracy: 0.8744 - val_loss: 0.5530 - val_accuracy: 0.7289\n",
      "Epoch 157/200\n",
      "90/90 [==============================] - 44s 493ms/step - loss: 0.3312 - accuracy: 0.8749 - val_loss: 0.5527 - val_accuracy: 0.7316\n",
      "Epoch 158/200\n",
      "90/90 [==============================] - 44s 493ms/step - loss: 0.3299 - accuracy: 0.8742 - val_loss: 0.5597 - val_accuracy: 0.7237\n",
      "Epoch 159/200\n",
      "90/90 [==============================] - 44s 491ms/step - loss: 0.3286 - accuracy: 0.8742 - val_loss: 0.5601 - val_accuracy: 0.7250\n",
      "Epoch 160/200\n",
      "90/90 [==============================] - 44s 494ms/step - loss: 0.3276 - accuracy: 0.8764 - val_loss: 0.5523 - val_accuracy: 0.7316\n",
      "Epoch 161/200\n",
      "90/90 [==============================] - 43s 480ms/step - loss: 0.3263 - accuracy: 0.8756 - val_loss: 0.5490 - val_accuracy: 0.7355\n",
      "Epoch 162/200\n",
      "90/90 [==============================] - 43s 479ms/step - loss: 0.3251 - accuracy: 0.8764 - val_loss: 0.5513 - val_accuracy: 0.7303\n",
      "Epoch 163/200\n",
      "90/90 [==============================] - 44s 484ms/step - loss: 0.3236 - accuracy: 0.8753 - val_loss: 0.5666 - val_accuracy: 0.7224\n",
      "Epoch 164/200\n",
      "90/90 [==============================] - 43s 482ms/step - loss: 0.3222 - accuracy: 0.8796 - val_loss: 0.5482 - val_accuracy: 0.7368\n",
      "Epoch 165/200\n",
      "90/90 [==============================] - 44s 485ms/step - loss: 0.3215 - accuracy: 0.8791 - val_loss: 0.5540 - val_accuracy: 0.7368\n",
      "Epoch 166/200\n",
      "90/90 [==============================] - 43s 480ms/step - loss: 0.3205 - accuracy: 0.8771 - val_loss: 0.5561 - val_accuracy: 0.7355\n",
      "Epoch 167/200\n",
      "90/90 [==============================] - 44s 487ms/step - loss: 0.3189 - accuracy: 0.8798 - val_loss: 0.5529 - val_accuracy: 0.7382\n",
      "Epoch 168/200\n",
      "90/90 [==============================] - 44s 487ms/step - loss: 0.3175 - accuracy: 0.8793 - val_loss: 0.5526 - val_accuracy: 0.7368\n",
      "Epoch 169/200\n",
      "90/90 [==============================] - 44s 489ms/step - loss: 0.3164 - accuracy: 0.8802 - val_loss: 0.5540 - val_accuracy: 0.7355\n",
      "Epoch 170/200\n",
      "90/90 [==============================] - 44s 487ms/step - loss: 0.3150 - accuracy: 0.8833 - val_loss: 0.5650 - val_accuracy: 0.7237\n",
      "Epoch 171/200\n",
      "90/90 [==============================] - 44s 486ms/step - loss: 0.3139 - accuracy: 0.8820 - val_loss: 0.5689 - val_accuracy: 0.7184\n",
      "Epoch 172/200\n",
      "90/90 [==============================] - 44s 488ms/step - loss: 0.3128 - accuracy: 0.8827 - val_loss: 0.5644 - val_accuracy: 0.7211\n",
      "Epoch 173/200\n",
      "90/90 [==============================] - 44s 491ms/step - loss: 0.3119 - accuracy: 0.8831 - val_loss: 0.5534 - val_accuracy: 0.7408\n",
      "Epoch 174/200\n",
      "90/90 [==============================] - 45s 499ms/step - loss: 0.3104 - accuracy: 0.8831 - val_loss: 0.5619 - val_accuracy: 0.7289\n",
      "Epoch 175/200\n",
      "90/90 [==============================] - 45s 497ms/step - loss: 0.3092 - accuracy: 0.8838 - val_loss: 0.5614 - val_accuracy: 0.7316\n",
      "Epoch 176/200\n",
      "90/90 [==============================] - 44s 494ms/step - loss: 0.3081 - accuracy: 0.8833 - val_loss: 0.5791 - val_accuracy: 0.7132\n",
      "Epoch 177/200\n",
      "90/90 [==============================] - 44s 494ms/step - loss: 0.3073 - accuracy: 0.8847 - val_loss: 0.5527 - val_accuracy: 0.7421\n",
      "Epoch 178/200\n",
      "90/90 [==============================] - 45s 497ms/step - loss: 0.3063 - accuracy: 0.8867 - val_loss: 0.5617 - val_accuracy: 0.7368\n",
      "Epoch 179/200\n",
      "90/90 [==============================] - 45s 498ms/step - loss: 0.3046 - accuracy: 0.8873 - val_loss: 0.5806 - val_accuracy: 0.7132\n",
      "Epoch 180/200\n",
      "90/90 [==============================] - 45s 495ms/step - loss: 0.3041 - accuracy: 0.8847 - val_loss: 0.5675 - val_accuracy: 0.7211\n",
      "Epoch 181/200\n",
      "90/90 [==============================] - 45s 496ms/step - loss: 0.3027 - accuracy: 0.8851 - val_loss: 0.5614 - val_accuracy: 0.7355\n",
      "Epoch 182/200\n",
      "90/90 [==============================] - 44s 494ms/step - loss: 0.3013 - accuracy: 0.8887 - val_loss: 0.5781 - val_accuracy: 0.7145\n",
      "Epoch 183/200\n",
      "90/90 [==============================] - 44s 488ms/step - loss: 0.3003 - accuracy: 0.8884 - val_loss: 0.5686 - val_accuracy: 0.7250\n",
      "Epoch 184/200\n",
      "90/90 [==============================] - 46s 507ms/step - loss: 0.2994 - accuracy: 0.8889 - val_loss: 0.5570 - val_accuracy: 0.7408\n",
      "Epoch 185/200\n",
      "90/90 [==============================] - 49s 545ms/step - loss: 0.2983 - accuracy: 0.8902 - val_loss: 0.5695 - val_accuracy: 0.7211\n",
      "Epoch 186/200\n",
      "90/90 [==============================] - 47s 522ms/step - loss: 0.2969 - accuracy: 0.8909 - val_loss: 0.5566 - val_accuracy: 0.7434\n",
      "Epoch 187/200\n",
      "90/90 [==============================] - 47s 520ms/step - loss: 0.2957 - accuracy: 0.8909 - val_loss: 0.5779 - val_accuracy: 0.7184\n",
      "Epoch 188/200\n",
      "90/90 [==============================] - 46s 515ms/step - loss: 0.2953 - accuracy: 0.8904 - val_loss: 0.5679 - val_accuracy: 0.7329\n",
      "Epoch 189/200\n",
      "90/90 [==============================] - 47s 525ms/step - loss: 0.2937 - accuracy: 0.8922 - val_loss: 0.5547 - val_accuracy: 0.7368\n",
      "Epoch 190/200\n",
      "90/90 [==============================] - 47s 524ms/step - loss: 0.2930 - accuracy: 0.8922 - val_loss: 0.5725 - val_accuracy: 0.7263\n",
      "Epoch 191/200\n",
      "90/90 [==============================] - 45s 505ms/step - loss: 0.2915 - accuracy: 0.8940 - val_loss: 0.5738 - val_accuracy: 0.7263\n",
      "Epoch 192/200\n",
      "90/90 [==============================] - 45s 501ms/step - loss: 0.2903 - accuracy: 0.8940 - val_loss: 0.5677 - val_accuracy: 0.7355\n",
      "Epoch 193/200\n",
      "90/90 [==============================] - 46s 510ms/step - loss: 0.2892 - accuracy: 0.8947 - val_loss: 0.5816 - val_accuracy: 0.7211\n",
      "Epoch 194/200\n",
      "90/90 [==============================] - 47s 528ms/step - loss: 0.2884 - accuracy: 0.8944 - val_loss: 0.5656 - val_accuracy: 0.7382\n",
      "Epoch 195/200\n",
      "90/90 [==============================] - 46s 513ms/step - loss: 0.2873 - accuracy: 0.8947 - val_loss: 0.5704 - val_accuracy: 0.7329\n",
      "Epoch 196/200\n",
      "90/90 [==============================] - 45s 497ms/step - loss: 0.2864 - accuracy: 0.8949 - val_loss: 0.5707 - val_accuracy: 0.7342\n",
      "Epoch 197/200\n",
      "90/90 [==============================] - 44s 495ms/step - loss: 0.2851 - accuracy: 0.8967 - val_loss: 0.5779 - val_accuracy: 0.7250\n",
      "Epoch 198/200\n",
      "90/90 [==============================] - 46s 508ms/step - loss: 0.2842 - accuracy: 0.8971 - val_loss: 0.5698 - val_accuracy: 0.7368\n",
      "Epoch 199/200\n",
      "90/90 [==============================] - 44s 494ms/step - loss: 0.2831 - accuracy: 0.8978 - val_loss: 0.5726 - val_accuracy: 0.7316\n",
      "Epoch 200/200\n",
      "90/90 [==============================] - 48s 529ms/step - loss: 0.2820 - accuracy: 0.8984 - val_loss: 0.5753 - val_accuracy: 0.7329\n"
     ]
    }
   ],
   "source": [
    "siamh= siamese_net.fit([S_L_Train,S_R_Train],np.array(y),batch_size=50, epochs=200,shuffle=True, validation_data=([S_L_Test,S_R_Test],np.array(y_test)),validation_batch_size=50)"
   ]
  },
  {
   "cell_type": "markdown",
   "id": "de1a9324",
   "metadata": {},
   "source": [
    "# Question 5"
   ]
  },
  {
   "cell_type": "code",
   "execution_count": 1,
   "id": "3b385915",
   "metadata": {},
   "outputs": [],
   "source": [
    "import librosa\n",
    "import os\n",
    "import numpy as np\n",
    "import tensorflow as tf"
   ]
  },
  {
   "cell_type": "code",
   "execution_count": 2,
   "id": "f5504c38",
   "metadata": {},
   "outputs": [],
   "source": [
    "def pad_audio(audio):\n",
    "    padding = np.zeros((195 - len(audio), 513))\n",
    "    padded_audio = np.concatenate((audio, padding), axis=0)\n",
    "    return padded_audio"
   ]
  },
  {
   "cell_type": "code",
   "execution_count": 3,
   "id": "b3a33347",
   "metadata": {},
   "outputs": [],
   "source": [
    "def load_and_process_audio(file_path):\n",
    "    audio, sr = librosa.load(file_path, sr=None)\n",
    "    stft = librosa.stft(audio, n_fft=1024, hop_length=512)\n",
    "    magnitude = np.abs(stft)\n",
    "    return magnitude.T"
   ]
  },
  {
   "cell_type": "code",
   "execution_count": 4,
   "id": "63c4f557",
   "metadata": {},
   "outputs": [],
   "source": [
    "clean_speech =[]\n",
    "noise =[]\n",
    "noisy_speech =[]\n",
    "directory = \"C:/Users/dassu/Downloads/timit-homework/tr/\""
   ]
  },
  {
   "cell_type": "code",
   "execution_count": 5,
   "id": "0da1da09",
   "metadata": {},
   "outputs": [],
   "source": [
    "for filename in os.listdir(directory):\n",
    "    if filename.startswith('trs') and filename.endswith('.wav'):\n",
    "        file_path = os.path.join(directory, filename)\n",
    "        spectrogram = load_and_process_audio(file_path)\n",
    "        spectrogram=pad_audio(spectrogram)\n",
    "        clean_speech.append(spectrogram)\n",
    "clean_speech= np.array(clean_speech)"
   ]
  },
  {
   "cell_type": "code",
   "execution_count": 6,
   "id": "69b35fbe",
   "metadata": {},
   "outputs": [],
   "source": [
    "for filename in os.listdir(directory):\n",
    "    if filename.startswith('trx') and filename.endswith('.wav'):\n",
    "        file_path = os.path.join(directory, filename)\n",
    "        spectrogram = load_and_process_audio(file_path)\n",
    "        spectrogram=pad_audio(spectrogram)\n",
    "        noisy_speech.append(spectrogram)\n",
    "noisy_speech = np.array(noisy_speech)"
   ]
  },
  {
   "cell_type": "code",
   "execution_count": 7,
   "id": "25e4dc61",
   "metadata": {},
   "outputs": [],
   "source": [
    "for filename in os.listdir(directory):\n",
    "    if filename.startswith('trn') and filename.endswith('.wav'):\n",
    "        file_path = os.path.join(directory, filename)\n",
    "        spectrogram = load_and_process_audio(file_path)\n",
    "        spectrogram=pad_audio(spectrogram)\n",
    "        noise.append(spectrogram)\n",
    "noise = np.array(noise)"
   ]
  },
  {
   "cell_type": "code",
   "execution_count": 8,
   "id": "1371ae59",
   "metadata": {},
   "outputs": [],
   "source": [
    "IBM = np.where(clean_speech > noise, 1, 0)"
   ]
  },
  {
   "cell_type": "code",
   "execution_count": 9,
   "id": "6027c19e",
   "metadata": {},
   "outputs": [],
   "source": [
    "def process_audio(file_path):\n",
    "    audio, sr = librosa.load(file_path, sr=None)\n",
    "    stft = librosa.stft(audio, n_fft=1024, hop_length=512)\n",
    "    magnitude = np.abs(stft)\n",
    "    return magnitude.T,stft,magnitude"
   ]
  },
  {
   "cell_type": "code",
   "execution_count": 10,
   "id": "0bb8e1c3",
   "metadata": {},
   "outputs": [],
   "source": [
    "valid_noisy_speech=[]\n",
    "directory2 = \"C:/Users/dassu/Downloads/timit-homework/v/\"\n",
    "for filename in os.listdir(directory2):\n",
    "    if filename.startswith('vx') and filename.endswith('.wav'):\n",
    "        file_path = os.path.join(directory2, filename)\n",
    "        spectrogram,stf,mag = process_audio(file_path)\n",
    "        spectrogram=pad_audio(spectrogram)\n",
    "        valid_noisy_speech.append(spectrogram)\n",
    "valid_noisy_speech= np.array(valid_noisy_speech)"
   ]
  },
  {
   "cell_type": "code",
   "execution_count": 11,
   "id": "336afd32",
   "metadata": {},
   "outputs": [],
   "source": [
    "valid_clean_speech=[]\n",
    "for filename in os.listdir(directory2):\n",
    "    if filename.startswith('vs') and filename.endswith('.wav'):\n",
    "        file_path = os.path.join(directory2, filename)\n",
    "        spectrogram,_,_ = process_audio(file_path)\n",
    "        spectrogram=pad_audio(spectrogram)\n",
    "        valid_clean_speech.append(spectrogram)\n",
    "valid_clean_speech = np.array(valid_clean_speech)"
   ]
  },
  {
   "cell_type": "code",
   "execution_count": 12,
   "id": "2c622ef1",
   "metadata": {},
   "outputs": [],
   "source": [
    "valid_noise=[]\n",
    "for filename in os.listdir(directory2):\n",
    "    if filename.startswith('vn') and filename.endswith('.wav'):\n",
    "        file_path = os.path.join(directory2, filename)\n",
    "        spectrogram,_,_ = process_audio(file_path)\n",
    "        spectrogram=pad_audio(spectrogram)\n",
    "        valid_noise.append(spectrogram)\n",
    "valid_noise = np.array(valid_noise)"
   ]
  },
  {
   "cell_type": "code",
   "execution_count": 13,
   "id": "7bc6b924",
   "metadata": {},
   "outputs": [],
   "source": [
    "model = tf.keras.Sequential([\n",
    "    tf.keras.layers.LSTM(513, return_sequences=True, input_shape=( 195,513)),\n",
    "    tf.keras.layers.LSTM(513,return_sequences =True),\n",
    "    tf.keras.layers.Dense(513,activation = \"sigmoid\")\n",
    "])"
   ]
  },
  {
   "cell_type": "code",
   "execution_count": 14,
   "id": "0c14ca17",
   "metadata": {},
   "outputs": [],
   "source": [
    "model.compile(optimizer='adam', loss='binary_crossentropy')"
   ]
  },
  {
   "cell_type": "code",
   "execution_count": 15,
   "id": "b4ec1bf5",
   "metadata": {},
   "outputs": [],
   "source": [
    "IBM_validation = np.where(valid_clean_speech > valid_noise, 1, 0)"
   ]
  },
  {
   "cell_type": "code",
   "execution_count": 16,
   "id": "21e7c830",
   "metadata": {
    "scrolled": true
   },
   "outputs": [
    {
     "name": "stdout",
     "output_type": "stream",
     "text": [
      "Epoch 1/100\n",
      "60/60 [==============================] - 97s 2s/step - loss: 0.4411 - val_loss: 0.3673\n",
      "Epoch 2/100\n",
      "60/60 [==============================] - 95s 2s/step - loss: 0.3534 - val_loss: 0.3384\n",
      "Epoch 3/100\n",
      "60/60 [==============================] - 95s 2s/step - loss: 0.3249 - val_loss: 0.3017\n",
      "Epoch 4/100\n",
      "60/60 [==============================] - 95s 2s/step - loss: 0.2971 - val_loss: 0.2805\n",
      "Epoch 5/100\n",
      "60/60 [==============================] - 90s 1s/step - loss: 0.2794 - val_loss: 0.2751\n",
      "Epoch 6/100\n",
      "60/60 [==============================] - 86s 1s/step - loss: 0.2703 - val_loss: 0.2724\n",
      "Epoch 7/100\n",
      "60/60 [==============================] - 86s 1s/step - loss: 0.3055 - val_loss: 0.2831\n",
      "Epoch 8/100\n",
      "60/60 [==============================] - 86s 1s/step - loss: 0.2663 - val_loss: 0.2599\n",
      "Epoch 9/100\n",
      "60/60 [==============================] - 88s 1s/step - loss: 0.2512 - val_loss: 0.2497\n",
      "Epoch 10/100\n",
      "60/60 [==============================] - 84s 1s/step - loss: 0.2441 - val_loss: 0.2422\n",
      "Epoch 11/100\n",
      "60/60 [==============================] - 84s 1s/step - loss: 0.2411 - val_loss: 0.2321\n",
      "Epoch 12/100\n",
      "60/60 [==============================] - 85s 1s/step - loss: 0.2352 - val_loss: 0.2324\n",
      "Epoch 13/100\n",
      "60/60 [==============================] - 85s 1s/step - loss: 0.2332 - val_loss: 0.2290\n",
      "Epoch 14/100\n",
      "60/60 [==============================] - 85s 1s/step - loss: 0.2297 - val_loss: 0.2250\n",
      "Epoch 15/100\n",
      "60/60 [==============================] - 85s 1s/step - loss: 0.2321 - val_loss: 0.2266\n",
      "Epoch 16/100\n",
      "60/60 [==============================] - 84s 1s/step - loss: 0.2250 - val_loss: 0.2230\n",
      "Epoch 17/100\n",
      "60/60 [==============================] - 85s 1s/step - loss: 0.2231 - val_loss: 0.2206\n",
      "Epoch 18/100\n",
      "60/60 [==============================] - 86s 1s/step - loss: 0.2210 - val_loss: 0.2186\n",
      "Epoch 19/100\n",
      "60/60 [==============================] - 84s 1s/step - loss: 0.2192 - val_loss: 0.2214\n",
      "Epoch 20/100\n",
      "60/60 [==============================] - 85s 1s/step - loss: 0.2175 - val_loss: 0.2164\n",
      "Epoch 21/100\n",
      "60/60 [==============================] - 84s 1s/step - loss: 0.2166 - val_loss: 0.2159\n",
      "Epoch 22/100\n",
      "60/60 [==============================] - 85s 1s/step - loss: 0.2139 - val_loss: 0.2133\n",
      "Epoch 23/100\n",
      "60/60 [==============================] - 86s 1s/step - loss: 0.2119 - val_loss: 0.2104\n",
      "Epoch 24/100\n",
      "60/60 [==============================] - 85s 1s/step - loss: 0.2115 - val_loss: 0.2120\n",
      "Epoch 25/100\n",
      "60/60 [==============================] - 85s 1s/step - loss: 0.2094 - val_loss: 0.2102\n",
      "Epoch 26/100\n",
      "60/60 [==============================] - 85s 1s/step - loss: 0.2064 - val_loss: 0.2119\n",
      "Epoch 27/100\n",
      "60/60 [==============================] - 85s 1s/step - loss: 0.2074 - val_loss: 0.2069\n",
      "Epoch 28/100\n",
      "60/60 [==============================] - 84s 1s/step - loss: 0.2022 - val_loss: 0.2065\n",
      "Epoch 29/100\n",
      "60/60 [==============================] - 84s 1s/step - loss: 0.2007 - val_loss: 0.2087\n",
      "Epoch 30/100\n",
      "60/60 [==============================] - 84s 1s/step - loss: 0.2009 - val_loss: 0.2080\n",
      "Epoch 31/100\n",
      "60/60 [==============================] - 84s 1s/step - loss: 0.1985 - val_loss: 0.2059\n",
      "Epoch 32/100\n",
      "60/60 [==============================] - 84s 1s/step - loss: 0.1966 - val_loss: 0.2058\n",
      "Epoch 33/100\n",
      "60/60 [==============================] - 84s 1s/step - loss: 0.1964 - val_loss: 0.2067\n",
      "Epoch 34/100\n",
      "60/60 [==============================] - 84s 1s/step - loss: 0.1949 - val_loss: 0.2021\n",
      "Epoch 35/100\n",
      "60/60 [==============================] - 84s 1s/step - loss: 0.1933 - val_loss: 0.2061\n",
      "Epoch 36/100\n",
      "60/60 [==============================] - 83s 1s/step - loss: 0.1905 - val_loss: 0.2092\n",
      "Epoch 37/100\n",
      "60/60 [==============================] - 83s 1s/step - loss: 0.1911 - val_loss: 0.2055\n",
      "Epoch 38/100\n",
      "60/60 [==============================] - 86s 1s/step - loss: 0.1887 - val_loss: 0.1992\n",
      "Epoch 39/100\n",
      "60/60 [==============================] - 85s 1s/step - loss: 0.1867 - val_loss: 0.2013\n",
      "Epoch 40/100\n",
      "60/60 [==============================] - 83s 1s/step - loss: 0.1869 - val_loss: 0.2039\n",
      "Epoch 41/100\n",
      "60/60 [==============================] - 85s 1s/step - loss: 0.1860 - val_loss: 0.2004\n",
      "Epoch 42/100\n",
      "60/60 [==============================] - 85s 1s/step - loss: 0.1839 - val_loss: 0.2035\n",
      "Epoch 43/100\n",
      "60/60 [==============================] - 83s 1s/step - loss: 0.1831 - val_loss: 0.2018\n",
      "Epoch 44/100\n",
      "60/60 [==============================] - 83s 1s/step - loss: 0.1816 - val_loss: 0.2020\n",
      "Epoch 45/100\n",
      "60/60 [==============================] - 83s 1s/step - loss: 0.1809 - val_loss: 0.2027\n",
      "Epoch 46/100\n",
      "60/60 [==============================] - 93s 2s/step - loss: 0.1821 - val_loss: 0.2000\n",
      "Epoch 47/100\n",
      "60/60 [==============================] - 86s 1s/step - loss: 0.1793 - val_loss: 0.1998\n",
      "Epoch 48/100\n",
      "60/60 [==============================] - 85s 1s/step - loss: 0.1807 - val_loss: 0.1980\n",
      "Epoch 49/100\n",
      "60/60 [==============================] - 84s 1s/step - loss: 0.1765 - val_loss: 0.2005\n",
      "Epoch 50/100\n",
      "60/60 [==============================] - 85s 1s/step - loss: 0.1771 - val_loss: 0.2036\n",
      "Epoch 51/100\n",
      "60/60 [==============================] - 85s 1s/step - loss: 0.1759 - val_loss: 0.1983\n",
      "Epoch 52/100\n",
      "60/60 [==============================] - 88s 1s/step - loss: 0.1731 - val_loss: 0.1974\n",
      "Epoch 53/100\n",
      "60/60 [==============================] - 91s 2s/step - loss: 0.1730 - val_loss: 0.1981\n",
      "Epoch 54/100\n",
      "60/60 [==============================] - 90s 2s/step - loss: 0.1720 - val_loss: 0.2006\n",
      "Epoch 55/100\n",
      "60/60 [==============================] - 86s 1s/step - loss: 0.1731 - val_loss: 0.2015\n",
      "Epoch 56/100\n",
      "60/60 [==============================] - 84s 1s/step - loss: 0.1713 - val_loss: 0.1994\n",
      "Epoch 57/100\n",
      "60/60 [==============================] - 84s 1s/step - loss: 0.1698 - val_loss: 0.1982\n",
      "Epoch 58/100\n",
      "60/60 [==============================] - 84s 1s/step - loss: 0.1688 - val_loss: 0.1990\n",
      "Epoch 59/100\n",
      "60/60 [==============================] - 84s 1s/step - loss: 0.1681 - val_loss: 0.1986\n",
      "Epoch 60/100\n",
      "60/60 [==============================] - 84s 1s/step - loss: 0.1666 - val_loss: 0.2006\n",
      "Epoch 61/100\n",
      "60/60 [==============================] - 84s 1s/step - loss: 0.1665 - val_loss: 0.1970\n",
      "Epoch 62/100\n",
      "60/60 [==============================] - 85s 1s/step - loss: 0.1656 - val_loss: 0.2009\n",
      "Epoch 63/100\n",
      "60/60 [==============================] - 86s 1s/step - loss: 0.1653 - val_loss: 0.1966\n",
      "Epoch 64/100\n",
      "60/60 [==============================] - 86s 1s/step - loss: 0.1646 - val_loss: 0.1983\n",
      "Epoch 65/100\n",
      "60/60 [==============================] - 85s 1s/step - loss: 0.1641 - val_loss: 0.2023\n",
      "Epoch 66/100\n",
      "60/60 [==============================] - 86s 1s/step - loss: 0.1642 - val_loss: 0.1950\n",
      "Epoch 67/100\n",
      "60/60 [==============================] - 85s 1s/step - loss: 0.1661 - val_loss: 0.2005\n",
      "Epoch 68/100\n",
      "60/60 [==============================] - 85s 1s/step - loss: 0.1696 - val_loss: 0.1983\n",
      "Epoch 69/100\n",
      "60/60 [==============================] - 85s 1s/step - loss: 0.1630 - val_loss: 0.1959\n",
      "Epoch 70/100\n",
      "60/60 [==============================] - 86s 1s/step - loss: 0.1608 - val_loss: 0.1962\n",
      "Epoch 71/100\n",
      "60/60 [==============================] - 86s 1s/step - loss: 0.1592 - val_loss: 0.1972\n",
      "Epoch 72/100\n",
      "60/60 [==============================] - 86s 1s/step - loss: 0.1585 - val_loss: 0.1967\n",
      "Epoch 73/100\n",
      "60/60 [==============================] - 85s 1s/step - loss: 0.1579 - val_loss: 0.1983\n",
      "Epoch 74/100\n",
      "60/60 [==============================] - 86s 1s/step - loss: 0.1570 - val_loss: 0.1993\n",
      "Epoch 75/100\n",
      "60/60 [==============================] - 85s 1s/step - loss: 0.1582 - val_loss: 0.1964\n",
      "Epoch 76/100\n",
      "60/60 [==============================] - 86s 1s/step - loss: 0.1567 - val_loss: 0.1979\n",
      "Epoch 77/100\n",
      "60/60 [==============================] - 86s 1s/step - loss: 0.1561 - val_loss: 0.1967\n",
      "Epoch 78/100\n",
      "60/60 [==============================] - 85s 1s/step - loss: 0.1550 - val_loss: 0.1974\n",
      "Epoch 79/100\n",
      "60/60 [==============================] - 84s 1s/step - loss: 0.1542 - val_loss: 0.1988\n",
      "Epoch 80/100\n",
      "60/60 [==============================] - 84s 1s/step - loss: 0.1543 - val_loss: 0.1995\n",
      "Epoch 81/100\n",
      "60/60 [==============================] - 84s 1s/step - loss: 0.1543 - val_loss: 0.2015\n",
      "Epoch 82/100\n",
      "60/60 [==============================] - 84s 1s/step - loss: 0.1543 - val_loss: 0.1978\n",
      "Epoch 83/100\n"
     ]
    },
    {
     "name": "stdout",
     "output_type": "stream",
     "text": [
      "60/60 [==============================] - 83s 1s/step - loss: 0.1541 - val_loss: 0.1983\n",
      "Epoch 84/100\n",
      "60/60 [==============================] - 84s 1s/step - loss: 0.1530 - val_loss: 0.1961\n",
      "Epoch 85/100\n",
      "60/60 [==============================] - 83s 1s/step - loss: 0.1523 - val_loss: 0.1972\n",
      "Epoch 86/100\n",
      "60/60 [==============================] - 84s 1s/step - loss: 0.1525 - val_loss: 0.1991\n",
      "Epoch 87/100\n",
      "60/60 [==============================] - 84s 1s/step - loss: 0.1525 - val_loss: 0.1986\n",
      "Epoch 88/100\n",
      "60/60 [==============================] - 83s 1s/step - loss: 0.1511 - val_loss: 0.1963\n",
      "Epoch 89/100\n",
      "60/60 [==============================] - 83s 1s/step - loss: 0.1502 - val_loss: 0.1991\n",
      "Epoch 90/100\n",
      "60/60 [==============================] - 85s 1s/step - loss: 0.1498 - val_loss: 0.1994\n",
      "Epoch 91/100\n",
      "60/60 [==============================] - 86s 1s/step - loss: 0.1504 - val_loss: 0.1968\n",
      "Epoch 92/100\n",
      "60/60 [==============================] - 86s 1s/step - loss: 0.1496 - val_loss: 0.1974\n",
      "Epoch 93/100\n",
      "60/60 [==============================] - 85s 1s/step - loss: 0.1487 - val_loss: 0.1981\n",
      "Epoch 94/100\n",
      "60/60 [==============================] - 85s 1s/step - loss: 0.1479 - val_loss: 0.1964\n",
      "Epoch 95/100\n",
      "60/60 [==============================] - 84s 1s/step - loss: 0.1473 - val_loss: 0.1971\n",
      "Epoch 96/100\n",
      "60/60 [==============================] - 85s 1s/step - loss: 0.1471 - val_loss: 0.1979\n",
      "Epoch 97/100\n",
      "60/60 [==============================] - 84s 1s/step - loss: 0.1478 - val_loss: 0.1987\n",
      "Epoch 98/100\n",
      "60/60 [==============================] - 85s 1s/step - loss: 0.1468 - val_loss: 0.1981\n",
      "Epoch 99/100\n",
      "60/60 [==============================] - 85s 1s/step - loss: 0.1460 - val_loss: 0.1989\n",
      "Epoch 100/100\n",
      "60/60 [==============================] - 85s 1s/step - loss: 0.1453 - val_loss: 0.1998\n"
     ]
    },
    {
     "data": {
      "text/plain": [
       "<keras.src.callbacks.History at 0x15caae02cd0>"
      ]
     },
     "execution_count": 16,
     "metadata": {},
     "output_type": "execute_result"
    }
   ],
   "source": [
    "# Training\n",
    "model.fit(noisy_speech,IBM, epochs=100,validation_data=(valid_noisy_speech,IBM_validation), batch_size=20)"
   ]
  },
  {
   "cell_type": "code",
   "execution_count": 37,
   "id": "b9895033",
   "metadata": {
    "scrolled": true
   },
   "outputs": [
    {
     "name": "stdout",
     "output_type": "stream",
     "text": [
      "38/38 [==============================] - 26s 675ms/step\n"
     ]
    }
   ],
   "source": [
    "recon = model.predict(valid_noisy_speech)"
   ]
  },
  {
   "cell_type": "code",
   "execution_count": 38,
   "id": "fc7804d5",
   "metadata": {},
   "outputs": [],
   "source": [
    "def process_audio_stft(file_path):\n",
    "    audio, sr = librosa.load(file_path, sr=None)\n",
    "    stft = librosa.stft(audio, n_fft=1024, hop_length=512)\n",
    "    magnitude = np.abs(stft)\n",
    "    return magnitude.T,audio,magnitude"
   ]
  },
  {
   "cell_type": "code",
   "execution_count": 39,
   "id": "4dd88abb",
   "metadata": {},
   "outputs": [],
   "source": [
    "valid_noisy_test=[]\n",
    "directory2 = \"C:/Users/dassu/Downloads/timit-homework/v/\"\n",
    "for filename in os.listdir(directory2):\n",
    "    if filename.startswith('vx') and filename.endswith('.wav'):\n",
    "        file_path = os.path.join(directory2, filename)\n",
    "        _,spectrogram,_ = process_audio(file_path)\n",
    "        valid_noisy_test.append(spectrogram)"
   ]
  },
  {
   "cell_type": "code",
   "execution_count": 40,
   "id": "09deb839",
   "metadata": {},
   "outputs": [],
   "source": [
    "noisy_isft=[]\n",
    "for i in range(0,len(recon)):\n",
    "    noisy_signal = recon[i][:len(valid_noisy_test[i][1])] * valid_noisy_test[i].T\n",
    "    j= librosa.istft(noisy_signal.T, win_length=1024, hop_length=512)\n",
    "    noisy_isft.append(j)"
   ]
  },
  {
   "cell_type": "code",
   "execution_count": 41,
   "id": "2d4b64a3",
   "metadata": {},
   "outputs": [],
   "source": [
    "valid_clean_test=[]\n",
    "directory2 = \"C:/Users/dassu/Downloads/timit-homework/v/\"\n",
    "for filename in os.listdir(directory2):\n",
    "    if filename.startswith('vs') and filename.endswith('.wav'):\n",
    "        file_path = os.path.join(directory2, filename)\n",
    "        _,spectrogram,_ = process_audio_stft(file_path)\n",
    "        valid_clean_test.append(spectrogram)"
   ]
  },
  {
   "cell_type": "code",
   "execution_count": 42,
   "id": "284b352c",
   "metadata": {},
   "outputs": [],
   "source": [
    "def calculate_snr(clean_signal, denoised_signal):\n",
    "    noise = clean_signal[:len(denoised_signal)] - denoised_signal\n",
    "    snr = 10 * np.log10(np.sum(clean_signal ** 2) / np.sum(noise ** 2))\n",
    "    return snr"
   ]
  },
  {
   "cell_type": "code",
   "execution_count": 43,
   "id": "805fd302",
   "metadata": {},
   "outputs": [],
   "source": [
    "snr_values = []\n",
    "for i in range(len(clean_speech)):\n",
    "    snr = calculate_snr(valid_clean_test[i],noisy_isft[i])\n",
    "    snr_values.append(snr)"
   ]
  },
  {
   "cell_type": "code",
   "execution_count": 44,
   "id": "d6222a5d",
   "metadata": {},
   "outputs": [
    {
     "name": "stdout",
     "output_type": "stream",
     "text": [
      "Average SNR on validation set: 11.185748621324699 dB\n"
     ]
    }
   ],
   "source": [
    "average_snr = np.mean(snr_values)\n",
    "print(f\"Average SNR on validation set: {average_snr} dB\")"
   ]
  },
  {
   "cell_type": "code",
   "execution_count": 25,
   "id": "62aaa9a2",
   "metadata": {},
   "outputs": [],
   "source": [
    "def process_audio_test(file_path):\n",
    "    audio, sr = librosa.load(file_path, sr=None)\n",
    "    stft = librosa.stft(audio, n_fft=1024, hop_length=512)\n",
    "    magnitude = np.abs(stft)\n",
    "    return magnitude.T,stft,magnitude,sr"
   ]
  },
  {
   "cell_type": "code",
   "execution_count": 26,
   "id": "5088b9bc",
   "metadata": {},
   "outputs": [],
   "source": [
    "directory3 = \"C:/Users/dassu/Downloads/timit-homework/te/\"\n",
    "valid_test_speech=[]\n",
    "sample_rate =[]\n",
    "for filename in os.listdir(directory3):\n",
    "    if filename.startswith('tex') and filename.endswith('.wav'):\n",
    "        file_path = os.path.join(directory3, filename)\n",
    "        spectrogram,_,_,sr = process_audio_test(file_path)\n",
    "        spectrogram=pad_audio(spectrogram)\n",
    "        sample_rate.append(sr)\n",
    "        valid_test_speech.append(spectrogram)\n",
    "valid_test_speech = np.array(valid_test_speech)"
   ]
  },
  {
   "cell_type": "code",
   "execution_count": 27,
   "id": "b0a51199",
   "metadata": {},
   "outputs": [
    {
     "name": "stdout",
     "output_type": "stream",
     "text": [
      "13/13 [==============================] - 8s 595ms/step\n"
     ]
    }
   ],
   "source": [
    "recon = model.predict(valid_test_speech)"
   ]
  },
  {
   "cell_type": "code",
   "execution_count": 28,
   "id": "54e56871",
   "metadata": {},
   "outputs": [
    {
     "data": {
      "text/plain": [
       "(400, 195, 513)"
      ]
     },
     "execution_count": 28,
     "metadata": {},
     "output_type": "execute_result"
    }
   ],
   "source": [
    "recon.shape"
   ]
  },
  {
   "cell_type": "code",
   "execution_count": 29,
   "id": "4e2b5da7",
   "metadata": {},
   "outputs": [],
   "source": [
    "valid_test_speech=[]\n",
    "directory3 = \"C:/Users/dassu/Downloads/timit-homework/te/\"\n",
    "for filename in os.listdir(directory3):\n",
    "    if filename.startswith('tex') and filename.endswith('.wav'):\n",
    "        file_path = os.path.join(directory3, filename)\n",
    "        _,spectrogram,_,_ = process_audio_test(file_path)\n",
    "        valid_test_speech.append(spectrogram)"
   ]
  },
  {
   "cell_type": "code",
   "execution_count": 30,
   "id": "d03e6ff4",
   "metadata": {},
   "outputs": [],
   "source": [
    "test_isft=[]\n",
    "for i in range(0,len(recon)):\n",
    "    test_signal = recon[i][:len(valid_test_speech[i][1])] * (valid_test_speech[i]).T\n",
    "    j= librosa.istft(test_signal.T, win_length=1024, hop_length=512)\n",
    "    test_isft.append(j)"
   ]
  },
  {
   "cell_type": "code",
   "execution_count": 31,
   "id": "17be804e",
   "metadata": {},
   "outputs": [],
   "source": [
    "import soundfile as sf"
   ]
  },
  {
   "cell_type": "code",
   "execution_count": 32,
   "id": "6eb0aacc",
   "metadata": {},
   "outputs": [],
   "source": [
    "text=\"test_hw4_recons\"\n",
    "wav =\".wav\"\n",
    "for i in range(0,len(test_isft)):\n",
    "    sf.write(\"C:/Users/dassu/Downloads/timit-homework/reconstructed/\"+text+str(i)+wav, test_isft[i],16000)"
   ]
  }
 ],
 "metadata": {
  "kernelspec": {
   "display_name": "Python 3 (ipykernel)",
   "language": "python",
   "name": "python3"
  },
  "language_info": {
   "codemirror_mode": {
    "name": "ipython",
    "version": 3
   },
   "file_extension": ".py",
   "mimetype": "text/x-python",
   "name": "python",
   "nbconvert_exporter": "python",
   "pygments_lexer": "ipython3",
   "version": "3.9.13"
  }
 },
 "nbformat": 4,
 "nbformat_minor": 5
}
